{
 "cells": [
  {
   "cell_type": "code",
   "execution_count": 1,
   "metadata": {},
   "outputs": [],
   "source": [
    "from dataset import AirfoilDataset\n",
    "import numpy as np\n",
    "import pickle\n",
    "from torch.utils.data import DataLoader\n",
    "from matplotlib import pyplot as plt\n",
    "import turbine_data as turbine"
   ]
  },
  {
   "cell_type": "code",
   "execution_count": 2,
   "metadata": {},
   "outputs": [],
   "source": [
    "alpha,_,_,_ = turbine.get_ClCd_from_file(0)"
   ]
  },
  {
   "cell_type": "code",
   "execution_count": 3,
   "metadata": {},
   "outputs": [],
   "source": [
    "testing_airfoils = [17]\n",
    "test_foil = DataLoader(AirfoilDataset(foils=testing_airfoils),batch_size=300)\n",
    "test_foil_data = next(enumerate(test_foil))\n",
    "_,(input,target) = test_foil_data\n",
    "shape = input[1]\n",
    "target = target.detach().numpy()"
   ]
  },
  {
   "cell_type": "markdown",
   "metadata": {},
   "source": [
    "# Investigate performance\n",
    " * Get average loss per network, outside and inside physics and total.\n",
    " * Get std of loss"
   ]
  },
  {
   "cell_type": "code",
   "execution_count": 4,
   "metadata": {},
   "outputs": [],
   "source": [
    "coefficients = [\"Cl\",\"Cd\",\"Cm\"]"
   ]
  },
  {
   "cell_type": "code",
   "execution_count": 5,
   "metadata": {},
   "outputs": [],
   "source": [
    "doublerun = [[\"l6_i1\",\"l6_i2\",\"l6_i3\",\"l6_i4\",\"l6_i5\",\"l6_i6\"],\n",
    "        [\"l6_i1_nophys\",\"l6_i2_nophys\",\"l6_i3_nophys\",\"l6_i4_nophys\",\"l6_i5_nophys\",\"l6_i6_nophys\"]]"
   ]
  },
  {
   "cell_type": "code",
   "execution_count": 6,
   "metadata": {},
   "outputs": [],
   "source": [
    "def get_predictions(source=\"long_train\"):\n",
    "    loss = {}\n",
    "    result = {}\n",
    "    for run in range(len(doublerun)):\n",
    "        networks = doublerun[run]\n",
    "        fname = [source+\"/predictions.pickle\",source+\"/predictions_nophys.pickle\"][run]\n",
    "        with open(fname,\"rb\") as f:\n",
    "            predictions = pickle.load(f)\n",
    "        for architecture in networks:\n",
    "            for c in range(3):\n",
    "                coeff = coefficients[c]\n",
    "\n",
    "                result[architecture,coeff] = []\n",
    "                loss[architecture,coeff,\"overall\"] = []\n",
    "                loss[architecture,coeff,\"central\"] = []\n",
    "                loss[architecture,coeff,\"outside\"] = []\n",
    "                \n",
    "                for iteration in range(10):\n",
    "                    \n",
    "                    # store the result itself for nice plots later\n",
    "                    result[architecture,coeff].append(predictions[architecture,iteration,coeff])\n",
    "                    \n",
    "                    # get the MSE on this iteration\n",
    "                    l = ((predictions[architecture,iteration,coeff]-target[:,c])**2).mean()\n",
    "                    loss[architecture,coeff,\"overall\"].append(l)\n",
    "\n",
    "                    l = ((predictions[architecture,iteration,coeff][83:117]-target[:,c][83:117])**2).mean()\n",
    "                    loss[architecture,coeff,\"central\"].append(l)\n",
    "                    \n",
    "                    l1 = ((predictions[architecture,iteration,coeff][:50] - target[:,c][:50])**2)\n",
    "                    l2 = ((predictions[architecture,iteration,coeff][150:]-target[:,c][150:])**2)\n",
    "                    loss[architecture,coeff,\"outside\"].append(np.concatenate((l1,l2)).mean())\n",
    "                    \n",
    "                loss[architecture,coeff,\"overall\",\"mean\"] = np.array(loss[architecture,coeff,\"overall\"]).mean()\n",
    "                loss[architecture,coeff,\"central\",\"mean\"] = np.array(loss[architecture,coeff,\"central\"]).mean()\n",
    "                loss[architecture,coeff,\"outside\",\"mean\"] = np.array(loss[architecture,coeff,\"outside\"]).mean()\n",
    "                loss[architecture,coeff,\"overall\",\"std\"] = np.array(loss[architecture,coeff,\"overall\"]).std()\n",
    "                loss[architecture,coeff,\"central\",\"std\"] = np.array(loss[architecture,coeff,\"central\"]).std()\n",
    "                loss[architecture,coeff,\"outside\",\"std\"] = np.array(loss[architecture,coeff,\"outside\"]).std()\n",
    "\n",
    "                for area in [\"overall\",\"central\",\"outside\"]:\n",
    "                    loss[architecture,coeff,area,\"max\"] = np.array(loss[architecture,coeff,area]).max()\n",
    "                    loss[architecture,coeff,area,\"min\"] = np.array(loss[architecture,coeff,area]).min()\n",
    "                \n",
    "                result[architecture,coeff] = np.array(result[architecture,coeff])\n",
    "                result[architecture,coeff,\"mean\"] = np.mean(result[architecture,coeff],0)\n",
    "                result[architecture,coeff,\"std\"] = np.std(result[architecture,coeff],0)\n",
    "    return loss, result"
   ]
  },
  {
   "cell_type": "code",
   "execution_count": 7,
   "metadata": {},
   "outputs": [],
   "source": [
    "networks = doublerun[0]+doublerun[1]"
   ]
  },
  {
   "cell_type": "markdown",
   "metadata": {},
   "source": [
    "# Plot Loss"
   ]
  },
  {
   "cell_type": "code",
   "execution_count": 8,
   "metadata": {},
   "outputs": [],
   "source": [
    "run = \"epoch50lr01\""
   ]
  },
  {
   "cell_type": "code",
   "execution_count": 9,
   "metadata": {},
   "outputs": [],
   "source": [
    "loss,result = get_predictions(run)\n",
    "area = \"overall\"\n",
    "layers = np.arange(1,7)\n",
    "plt.rcParams[\"figure.figsize\"] = [4,2]"
   ]
  },
  {
   "cell_type": "markdown",
   "metadata": {},
   "source": [
    "## Kun gjennomsnitt"
   ]
  },
  {
   "cell_type": "code",
   "execution_count": 10,
   "metadata": {},
   "outputs": [
    {
     "name": "stdout",
     "output_type": "stream",
     "text": [
      "Name             overall  central  outside\n",
      "l6_i1_Cl         0.05211  0.01453  0.09220\n",
      "l6_i2_Cl         0.03472  0.00751  0.06143\n",
      "l6_i3_Cl         0.02825  0.00316  0.05124\n",
      "l6_i4_Cl         0.10661  0.00417  0.20645\n",
      "l6_i5_Cl         0.14845  0.00358  0.28677\n",
      "l6_i6_Cl         0.15164  0.01217  0.28839\n",
      "l6_i1_nophys_Cl  0.10140  0.06450  0.05989\n",
      "l6_i2_nophys_Cl  0.11040  0.07561  0.06750\n",
      "l6_i3_nophys_Cl  0.01982  0.00373  0.03293\n",
      "l6_i4_nophys_Cl  0.12099  0.07765  0.08755\n",
      "l6_i5_nophys_Cl  0.65150  0.51239  0.23382\n",
      "l6_i6_nophys_Cl  0.86777  0.62355  0.33471\n"
     ]
    }
   ],
   "source": [
    "cost,result = get_predictions(\"epoch20lr01/\")\n",
    "print(\"Name\".ljust(16),\"overall \",\"central \",\"outside\")\n",
    "for architecture in networks:\n",
    "    print((architecture+\"_Cl\").ljust(16)+\" \"+\"{:.5f}  {:.5f}  {:.5f}\".format(\n",
    "        loss[architecture,\"Cl\",\"overall\",\"mean\"],\n",
    "        loss[architecture,\"Cl\",\"central\",\"mean\"],\n",
    "        loss[architecture,\"Cl\",\"outside\",\"mean\"]))"
   ]
  },
  {
   "cell_type": "code",
   "execution_count": 11,
   "metadata": {},
   "outputs": [],
   "source": [
    "loss,result = get_predictions(\"epoch50lr01/\")\n",
    "for area in [\"overall\",\"central\",\"outside\"]: \n",
    "    for par in [\"mean\",\"std\",\"min\",\"max\"]:\n",
    "        loss[\"l6_i3_nophys\",\"Cl\",area,par] = cost[\"l6_i3_nophys\",\"Cl\",area,par]    "
   ]
  },
  {
   "cell_type": "markdown",
   "metadata": {},
   "source": [
    "## +- std"
   ]
  },
  {
   "cell_type": "code",
   "execution_count": 12,
   "metadata": {},
   "outputs": [
    {
     "name": "stdout",
     "output_type": "stream",
     "text": [
      "Name        overall                 central                 outside\n",
      "Layer 1 & 0.05211 $\\pm$ 0.04191 & 0.01453 $\\pm$ 0.01471 & 0.09220 $\\pm$ 0.08414 \\\\\n",
      "Layer 2 & 0.03472 $\\pm$ 0.03205 & 0.00751 $\\pm$ 0.00866 & 0.06143 $\\pm$ 0.05962 \\\\\n",
      "Layer 3 & 0.02825 $\\pm$ 0.01914 & 0.00316 $\\pm$ 0.00227 & 0.05124 $\\pm$ 0.03736 \\\\\n",
      "Layer 4 & 0.10661 $\\pm$ 0.05086 & 0.00417 $\\pm$ 0.00817 & 0.20645 $\\pm$ 0.10113 \\\\\n",
      "Layer 5 & 0.14845 $\\pm$ 0.00354 & 0.00358 $\\pm$ 0.00387 & 0.28677 $\\pm$ 0.00475 \\\\\n",
      "Layer 6 & 0.15164 $\\pm$ 0.00125 & 0.01217 $\\pm$ 0.00245 & 0.28839 $\\pm$ 0.00147 \\\\\n",
      "Layer 1 & 0.10140 $\\pm$ 0.25600 & 0.06450 $\\pm$ 0.18477 & 0.05989 $\\pm$ 0.09839 \\\\\n",
      "Layer 2 & 0.11040 $\\pm$ 0.25390 & 0.07561 $\\pm$ 0.18422 & 0.06750 $\\pm$ 0.09762 \\\\\n",
      "Layer 3 & 0.06989 $\\pm$ 0.08548 & 0.07136 $\\pm$ 0.07608 & 0.07257 $\\pm$ 0.07093 \\\\\n",
      "Layer 4 & 0.12099 $\\pm$ 0.24941 & 0.07765 $\\pm$ 0.18171 & 0.08755 $\\pm$ 0.08431 \\\\\n",
      "Layer 5 & 0.65150 $\\pm$ 0.19689 & 0.51239 $\\pm$ 0.09286 & 0.23382 $\\pm$ 0.09206 \\\\\n",
      "Layer 6 & 0.86777 $\\pm$ 0.00017 & 0.62355 $\\pm$ 0.00266 & 0.33471 $\\pm$ 0.00280 \\\\\n"
     ]
    }
   ],
   "source": [
    "#loss,result = get_predictions(\"epoch50lr01/\")\n",
    "print(\"Name\".ljust(9),\"  overall \",\"               central \",\"               outside\")\n",
    "for architecture in networks:\n",
    "    print(\"Layer \"+architecture[4]+\" & \"+\"{:.5f} $\\pm$ {:.5f} & {:.5f} $\\pm$ {:.5f} & {:.5f} $\\pm$ {:.5f} \\\\\\\\\".format(\n",
    "        loss[architecture,\"Cl\",\"overall\",\"mean\"],loss[architecture,\"Cl\",\"overall\",\"std\"],\n",
    "        loss[architecture,\"Cl\",\"central\",\"mean\"],loss[architecture,\"Cl\",\"central\",\"std\"],\n",
    "        loss[architecture,\"Cl\",\"outside\",\"mean\"],loss[architecture,\"Cl\",\"outside\",\"std\"]))"
   ]
  },
  {
   "cell_type": "markdown",
   "metadata": {},
   "source": [
    "## min < avg < max"
   ]
  },
  {
   "cell_type": "code",
   "execution_count": 85,
   "metadata": {},
   "outputs": [
    {
     "name": "stdout",
     "output_type": "stream",
     "text": [
      "Name                  overall                         central                         outside\n",
      "Layer 1 &   0.01771 < 0.05211 < 0.14254 &   0.00108 < 0.01453 < 0.04712 &   0.02923 < 0.09220 < 0.27382 &    \\\\\n",
      "Layer 2 &   0.01486 < 0.03472 < 0.12883 &   0.00090 < 0.00751 < 0.02525 &   0.02424 < 0.06143 < 0.23695 &    \\\\\n",
      "Layer 3 &   0.01004 < 0.02825 < 0.08054 &   0.00083 < 0.00316 < 0.00787 &   0.01617 < 0.05124 < 0.15334 &    \\\\\n",
      "Layer 4 &   0.01860 < 0.10661 < 0.14698 &   0.00038 < 0.00417 < 0.02859 &   0.03400 < 0.20645 < 0.28512 &    \\\\\n",
      "Layer 5 &   0.13975 < 0.14845 < 0.15226 &   0.00007 < 0.00358 < 0.00989 &   0.27448 < 0.28677 < 0.29116 &    \\\\\n",
      "Layer 6 &   0.15036 < 0.15164 < 0.15480 &   0.00887 < 0.01217 < 0.01802 &   0.28660 < 0.28839 < 0.29141 &    \\\\\n",
      "Layer 1 &   0.00925 < 0.10140 < 0.86929 &   0.00034 < 0.06450 < 0.61877 &   0.01424 < 0.05989 < 0.35376 &    \\\\\n",
      "Layer 2 &   0.00649 < 0.11040 < 0.86964 &   0.00116 < 0.07561 < 0.61788 &   0.00911 < 0.06750 < 0.35456 &    \\\\\n",
      "Layer 3 &   0.02819 < 0.06989 < 0.32443 &   0.00486 < 0.07136 < 0.25361 &   0.02660 < 0.07257 < 0.28250 &    \\\\\n",
      "Layer 4 &   0.02764 < 0.12099 < 0.86856 &   0.00269 < 0.07765 < 0.62132 &   0.04530 < 0.08755 < 0.33457 &    \\\\\n",
      "Layer 5 &   0.31799 < 0.65150 < 0.86901 &   0.34647 < 0.51239 < 0.62205 &   0.08407 < 0.23382 < 0.33533 &    \\\\\n",
      "Layer 6 &   0.86758 < 0.86777 < 0.86812 &   0.61905 < 0.62355 < 0.62806 &   0.32971 < 0.33471 < 0.33961 &    \\\\\n"
     ]
    }
   ],
   "source": [
    "#loss,result = get_predictions(\"epoch50lr01/\")\n",
    "print(\"Name\".ljust(9),\"            overall \",\"                       central \",\"                       outside\")\n",
    "for architecture in networks:\n",
    "    print(\"Layer \"+architecture[4]+\" &   \"+\"{:.5f} < {:.5f} < {:.5f} &   {:.5f} < {:.5f} < {:.5f} &   {:.5f} < {:.5f} < {:.5f} &    \\\\\\\\\".format(\n",
    "        loss[architecture,\"Cl\",\"overall\",\"min\"],loss[architecture,\"Cl\",\"overall\",\"mean\"],loss[architecture,\"Cl\",\"overall\",\"max\"],\n",
    "        loss[architecture,\"Cl\",\"central\",\"min\"],loss[architecture,\"Cl\",\"central\",\"mean\"],loss[architecture,\"Cl\",\"central\",\"max\"],\n",
    "        loss[architecture,\"Cl\",\"outside\",\"min\"],loss[architecture,\"Cl\",\"outside\",\"mean\"],loss[architecture,\"Cl\",\"outside\",\"max\"]))"
   ]
  },
  {
   "cell_type": "markdown",
   "metadata": {},
   "source": [
    "## gjennomsnitt - største spredning"
   ]
  },
  {
   "cell_type": "code",
   "execution_count": 86,
   "metadata": {},
   "outputs": [
    {
     "name": "stdout",
     "output_type": "stream",
     "text": [
      "Name        overall                 central                 outside\n",
      "Layer 1 &   0.05211 \\in 0.12484 &   0.01453 \\in 0.04604 &   0.09220 \\in 0.24459 &    \\\\\n",
      "Layer 2 &   0.03472 \\in 0.11397 &   0.00751 \\in 0.02435 &   0.06143 \\in 0.21271 &    \\\\\n",
      "Layer 3 &   0.02825 \\in 0.07050 &   0.00316 \\in 0.00703 &   0.05124 \\in 0.13718 &    \\\\\n",
      "Layer 4 &   0.10661 \\in 0.12837 &   0.00417 \\in 0.02821 &   0.20645 \\in 0.25112 &    \\\\\n",
      "Layer 5 &   0.14845 \\in 0.01251 &   0.00358 \\in 0.00982 &   0.28677 \\in 0.01669 &    \\\\\n",
      "Layer 6 &   0.15164 \\in 0.00444 &   0.01217 \\in 0.00915 &   0.28839 \\in 0.00481 &    \\\\\n",
      "Layer 1 &   0.10140 \\in 0.86003 &   0.06450 \\in 0.61843 &   0.05989 \\in 0.33952 &    \\\\\n",
      "Layer 2 &   0.11040 \\in 0.86315 &   0.07561 \\in 0.61672 &   0.06750 \\in 0.34545 &    \\\\\n",
      "Layer 3 &   0.06989 \\in 0.29623 &   0.07136 \\in 0.24875 &   0.07257 \\in 0.25590 &    \\\\\n",
      "Layer 4 &   0.12099 \\in 0.84093 &   0.07765 \\in 0.61863 &   0.08755 \\in 0.28928 &    \\\\\n",
      "Layer 5 &   0.65150 \\in 0.55102 &   0.51239 \\in 0.27557 &   0.23382 \\in 0.25127 &    \\\\\n",
      "Layer 6 &   0.86777 \\in 0.00054 &   0.62355 \\in 0.00901 &   0.33471 \\in 0.00990 &    \\\\\n"
     ]
    }
   ],
   "source": [
    "#loss,result = get_predictions(\"epoch50lr01/\")\n",
    "print(\"Name\".ljust(9),\"  overall \",\"               central \",\"               outside\")\n",
    "for architecture in networks:\n",
    "    print(\"Layer \"+architecture[4]+\" &   \"+\"{:.5f} \\in {:.5f} &   {:.5f} \\in {:.5f} &   {:.5f} \\in {:.5f} &    \\\\\\\\\".format(\n",
    "        loss[architecture,\"Cl\",\"overall\",\"mean\"],loss[architecture,\"Cl\",\"overall\",\"max\"]-loss[architecture,\"Cl\",\"overall\",\"min\"],\n",
    "        loss[architecture,\"Cl\",\"central\",\"mean\"],loss[architecture,\"Cl\",\"central\",\"max\"]-loss[architecture,\"Cl\",\"central\",\"min\"],\n",
    "        loss[architecture,\"Cl\",\"outside\",\"mean\"],loss[architecture,\"Cl\",\"outside\",\"max\"]-loss[architecture,\"Cl\",\"outside\",\"min\"]))"
   ]
  },
  {
   "cell_type": "code",
   "execution_count": 87,
   "metadata": {},
   "outputs": [
    {
     "data": {
      "image/png": "[encoded data removed]",
      "text/plain": [
       "<Figure size 400x200 with 1 Axes>"
      ]
     },
     "metadata": {},
     "output_type": "display_data"
    }
   ],
   "source": [
    "_ = plt.boxplot(np.array([loss[architecture,\"Cl\",\"overall\"] for architecture in networks[:6]]).T,showfliers=False)\n",
    "plt.grid()\n",
    "#plt.ylim([0,0.05])"
   ]
  },
  {
   "cell_type": "code",
   "execution_count": 88,
   "metadata": {},
   "outputs": [
    {
     "data": {
      "image/png": "[encoded data removed]",
      "text/plain": [
       "<Figure size 400x200 with 1 Axes>"
      ]
     },
     "metadata": {},
     "output_type": "display_data"
    }
   ],
   "source": [
    "_=plt.boxplot(np.array([loss[architecture,\"Cl\",\"overall\"] for architecture in networks[6:]]).T,showfliers=False)\n",
    "plt.grid()"
   ]
  },
  {
   "cell_type": "code",
   "execution_count": 33,
   "metadata": {},
   "outputs": [
    {
     "name": "stdout",
     "output_type": "stream",
     "text": [
      "0.08696616\n",
      "0.0075187213\n",
      "0.16441387\n"
     ]
    }
   ],
   "source": [
    "for area in [\"overall\",\"central\",\"outside\"]: \n",
    "    print(np.mean([loss[architecture,\"Cl\",area,\"mean\"] for architecture in networks[:6]]))"
   ]
  },
  {
   "cell_type": "code",
   "execution_count": 91,
   "metadata": {},
   "outputs": [
    {
     "name": "stdout",
     "output_type": "stream",
     "text": [
      "0.17364039\n",
      "0.1203832\n",
      "0.07435128\n"
     ]
    }
   ],
   "source": [
    "for area in [\"overall\",\"central\",\"outside\"]: \n",
    "    print(np.mean([loss[architecture,\"Cl\",area,\"std\"] for architecture in networks[6:]]))"
   ]
  },
  {
   "cell_type": "markdown",
   "metadata": {},
   "source": [
    "### Plot architecture and coefficient with uncertainty bound"
   ]
  },
  {
   "cell_type": "code",
   "execution_count": 148,
   "metadata": {},
   "outputs": [
    {
     "name": "stdout",
     "output_type": "stream",
     "text": [
      "............"
     ]
    },
    {
     "data": {
      "image/png": "[encoded data removed]",
      "text/plain": [
       "<Figure size 440x400 with 1 Axes>"
      ]
     },
     "metadata": {},
     "output_type": "display_data"
    }
   ],
   "source": [
    "loss,result = get_predictions(run)\n",
    "plt.rcParams[\"figure.figsize\"] = [4.4,4]\n",
    "plt.rcParams['text.usetex'] = False\n",
    "for architecture in networks:\n",
    "    for c in range(1):\n",
    "        print(\".\",end='')\n",
    "        coeff = coefficients[c]\n",
    "        cname = [\"Lift Coefficient\",\"Drag Coefficient\",\"Coefficient of Moment\"][c]\n",
    "        mean = result[architecture,coeff,\"mean\"]\n",
    "        stddev = result[architecture,coeff,\"std\"]\n",
    "        upper_bound = mean + stddev\n",
    "        lower_bound = mean - stddev\n",
    "        plt.close()\n",
    "        plt.plot(alpha,target[:,c])\n",
    "        plt.plot(alpha,mean)\n",
    "        plt.fill_between(alpha,lower_bound,upper_bound,alpha=0.2,color=\"tab:orange\")\n",
    "        plt.legend([\"Target\",\"Output\"])\n",
    "        plt.xlabel(\"α\")\n",
    "        plt.ylabel(cname)\n",
    "        plt.grid()\n",
    "        filename = run+\"/\"+architecture+\"_\"+coeff+\".pdf\"\n",
    "        plt.savefig(filename,bbox_inches=\"tight\")"
   ]
  },
  {
   "cell_type": "markdown",
   "metadata": {},
   "source": [
    "# XFOIL performance"
   ]
  },
  {
   "cell_type": "code",
   "execution_count": 219,
   "metadata": {},
   "outputs": [
    {
     "name": "stdout",
     "output_type": "stream",
     "text": [
      "XFOIL error: 0.057409793\n"
     ]
    },
    {
     "data": {
      "image/png": "[encoded data removed]",
      "text/plain": [
       "<Figure size 440x400 with 1 Axes>"
      ]
     },
     "metadata": {},
     "output_type": "display_data"
    }
   ],
   "source": [
    "plt.rcParams[\"figure.figsize\"] = [4.4,4]\n",
    "tarcl = target[50:150,0]\n",
    "xfoil = input[2][50:150,0].detach().numpy()\n",
    "lo = -1.5716\n",
    "hi = 2.3858\n",
    "xfoil = 0.5*(xfoil+1)*(hi-lo)+lo\n",
    "plt.plot(alpha[50:150],xfoil)\n",
    "plt.plot(alpha[50:150],tarcl)\n",
    "print(\"XFOIL error:\",((tarcl-xfoil)**2).mean())\n",
    "plt.legend([\"Target\",\"XFOIL\"])\n",
    "plt.xlabel(\"α\")\n",
    "plt.ylabel(cname)\n",
    "plt.grid()\n",
    "#filename = run+\"/\"+architecture+\"_\"+coeff+\".pdf\"\n",
    "#plt.savefig(filename,bbox_inches=\"tight\")"
   ]
  },
  {
   "cell_type": "code",
   "execution_count": null,
   "metadata": {},
   "outputs": [],
   "source": []
  }
 ],
 "metadata": {
  "kernelspec": {
   "display_name": "Python 3 (ipykernel)",
   "language": "python",
   "name": "python3"
  },
  "language_info": {
   "codemirror_mode": {
    "name": "ipython",
    "version": 3
   },
   "file_extension": ".py",
   "mimetype": "text/x-python",
   "name": "python",
   "nbconvert_exporter": "python",
   "pygments_lexer": "ipython3",
   "version": "3.8.8"
  },
  "vscode": {
   "interpreter": {
    "hash": "7c2b06f8a4dbe643210dea1d11035fe9fbd77f89e6b1b952475538afcf139497"
   }
  }
 },
 "nbformat": 4,
 "nbformat_minor": 2
}
