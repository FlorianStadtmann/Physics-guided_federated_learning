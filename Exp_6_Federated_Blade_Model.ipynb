{
 "cells": [
  {
   "cell_type": "markdown",
   "id": "3efe120a",
   "metadata": {},
   "source": [
    "# Import and preparation"
   ]
  },
  {
   "cell_type": "code",
   "execution_count": 1,
   "id": "c57ea3cd",
   "metadata": {},
   "outputs": [],
   "source": [
    "import tensorflow as tf\n",
    "import numpy as np\n",
    "import pickle\n",
    "import matplotlib.pyplot as plt\n",
    "import gc\n",
    "from keras import backend as K \n",
    "from tqdm.notebook import tqdm\n",
    "%matplotlib widget"
   ]
  },
  {
   "cell_type": "code",
   "execution_count": 3,
   "id": "6a6cfaf0",
   "metadata": {},
   "outputs": [],
   "source": [
    "# create new file to write to (overwrites existing files)\n",
    "\n",
    "with open(\"federated_stats.pkl\",\"wb\") as f:\n",
    "    pickle.dump({},f)"
   ]
  },
  {
   "cell_type": "code",
   "execution_count": 5,
   "id": "c06ec62f",
   "metadata": {},
   "outputs": [],
   "source": [
    "# multithreading (should be activated per default, but just in case)\n",
    "tf.config.threading.set_intra_op_parallelism_threads(16)"
   ]
  },
  {
   "cell_type": "markdown",
   "id": "77ebd348",
   "metadata": {},
   "source": [
    "# Load  and process data"
   ]
  },
  {
   "cell_type": "code",
   "execution_count": 5,
   "id": "33446124",
   "metadata": {},
   "outputs": [],
   "source": [
    "# load data\n",
    "with open(\"AllData.pkl\",\"rb\") as f:\n",
    "    data = pickle.load(f)"
   ]
  },
  {
   "cell_type": "code",
   "execution_count": 6,
   "id": "4dceaec2",
   "metadata": {},
   "outputs": [],
   "source": [
    "# create training, validation and test data splits\n",
    "\n",
    "airfoil_sets = []\n",
    "j=-1\n",
    "for i in range(6,30):\n",
    "    if (i-6)%4==0:\n",
    "        j+=1\n",
    "        airfoil_sets.append([])\n",
    "    airfoil_sets[j].append(i)\n",
    "airfoil_sets = np.array(airfoil_sets)\n",
    "\n",
    "def process_data(airfoils):\n",
    "    x = []\n",
    "    x_phys_ext = []\n",
    "    x_phys = []\n",
    "    y = []\n",
    "    for airfoil in airfoils:\n",
    "        for i in range(len(data[airfoil][\"alpha\"])):\n",
    "            x.append(np.reshape(data[airfoil][\"coords_reduced\"],-1))\n",
    "            x_phys_ext.append([data[airfoil][\"alpha\"][i],data[airfoil][\"Cl_approx_exp\"][i],data[airfoil][\"Cd_approx_exp\"][i]])\n",
    "            x_phys.append([data[airfoil][\"alpha\"][i],data[airfoil][\"Cl_approx\"][i],data[airfoil][\"Cd_approx\"][i]])\n",
    "            y.append([data[airfoil][\"Cl_target\"][i], data[airfoil][\"Cd_target\"][i]])\n",
    "    x = np.array(x)\n",
    "    x_phys_ext = np.array(x_phys_ext)\n",
    "    x_phys = np.array(x_phys)\n",
    "    y = np.array(y)\n",
    "    return [x, x_phys_ext, y]\n",
    "\n",
    "\n",
    "data_sets_train = []\n",
    "for i in range(airfoil_sets.shape[0]):\n",
    "    data_sets_train.append(process_data([airfoil_sets[i,0], airfoil_sets[i,1]]))\n",
    "data_sets_val = []\n",
    "for i in range(airfoil_sets.shape[0]):\n",
    "    data_sets_val.append(process_data([airfoil_sets[i,2]]))\n",
    "data_sets_test = []\n",
    "for i in range(airfoil_sets.shape[0]):\n",
    "    data_sets_test.append(process_data([ airfoil_sets[i,3]]))\n",
    "    \n",
    "af_train = []\n",
    "for i in range(len(airfoil_sets)):\n",
    "    af_train.append(airfoil_sets[i,0])\n",
    "    af_train.append(airfoil_sets[i,1])\n",
    "a_train = process_data(af_train)\n",
    "x_train, x_train_phys, y_train = a_train[0], a_train[1], a_train[2]\n",
    "af_val = []\n",
    "for i in range(len(airfoil_sets)):\n",
    "    af_val.append(airfoil_sets[i,2])\n",
    "a_val = process_data(af_val)\n",
    "x_val, x_val_phys, y_val = a_val[0], a_val[1], a_val[2]\n",
    "af_test = []\n",
    "for i in range(len(airfoil_sets)):\n",
    "    af_test.append(airfoil_sets[i,3])\n",
    "a_test = process_data(af_test)\n",
    "x_test, x_test_phys, y_test = a_test[0], a_test[1], a_test[2]"
   ]
  },
  {
   "cell_type": "markdown",
   "id": "a653945b",
   "metadata": {},
   "source": [
    "# Define training functions"
   ]
  },
  {
   "cell_type": "code",
   "execution_count": 8,
   "id": "644dd917",
   "metadata": {},
   "outputs": [],
   "source": [
    "# function for trtaining single nn federated\n",
    "def train_nn_federated(mode,\n",
    "                       train,\n",
    "                       val,\n",
    "                         verbose,\n",
    "                       aggregation_steps = 1000,\n",
    "                       epochs=200,  \n",
    "                       federated=\"FedAvg\",\n",
    "                       batch_size=64,\n",
    "                       collection=\"epoch\",\n",
    "                       local_lr=0.01,\n",
    "                       global_lr=0.01,\n",
    "                         ):\n",
    "    #print(collection)\n",
    "    def build_nn(optimizer=\"adam\"):\n",
    "        # build NN\n",
    "        inputs = tf.keras.layers.Input(40,)\n",
    "        if \"PGNN\" in mode:\n",
    "            phys = tf.keras.layers.Input(3,)\n",
    "            inputs2 = inputs\n",
    "        elif mode == \"DDNN\":\n",
    "            phys = tf.keras.layers.Input(1,)\n",
    "            inputs2 = tf.keras.layers.Concatenate()([inputs,phys])\n",
    "\n",
    "        hidden_nodes = 200\n",
    "\n",
    "\n",
    "        if mode == \"PGNN_1\":\n",
    "            merged = tf.keras.layers.Concatenate()([inputs2,phys])\n",
    "            h1 = tf.keras.layers.Dense(hidden_nodes, activation=tf.nn.relu, \n",
    "                                       kernel_initializer=tf.keras.initializers.RandomNormal(stddev=0.01),\n",
    "                                       bias_initializer=tf.keras.initializers.Zeros()\n",
    "                                      )(merged)\n",
    "        else:\n",
    "            h1 = tf.keras.layers.Dense(hidden_nodes, activation=tf.nn.relu, \n",
    "                                       kernel_initializer=tf.keras.initializers.RandomNormal(stddev=0.01),\n",
    "                                       bias_initializer=tf.keras.initializers.Zeros()\n",
    "                                      )(inputs2)\n",
    "\n",
    "        if mode == \"PGNN_2\":\n",
    "            merged = tf.keras.layers.Concatenate()([h1,phys])\n",
    "            h2 = tf.keras.layers.Dense(hidden_nodes, activation=tf.nn.relu, \n",
    "                                       kernel_initializer=tf.keras.initializers.RandomNormal(stddev=0.01),\n",
    "                                       bias_initializer=tf.keras.initializers.Zeros()\n",
    "                                      )(merged)\n",
    "        else:\n",
    "            h2 = tf.keras.layers.Dense(hidden_nodes, activation=tf.nn.relu, \n",
    "                                       kernel_initializer=tf.keras.initializers.RandomNormal(stddev=0.01),\n",
    "                                       bias_initializer=tf.keras.initializers.Zeros()\n",
    "                                      )(h1)\n",
    "\n",
    "        if mode == \"PGNN_3\":\n",
    "            merged = tf.keras.layers.Concatenate()([h2,phys])\n",
    "            h3 = tf.keras.layers.Dense(hidden_nodes, activation=tf.nn.relu, \n",
    "                                       kernel_initializer=tf.keras.initializers.RandomNormal(stddev=0.01),\n",
    "                                       bias_initializer=tf.keras.initializers.Zeros()\n",
    "                                      )(merged)\n",
    "        else:\n",
    "            h3 = tf.keras.layers.Dense(hidden_nodes, activation=tf.nn.relu, \n",
    "                                       kernel_initializer=tf.keras.initializers.RandomNormal(stddev=0.01),\n",
    "                                       bias_initializer=tf.keras.initializers.Zeros()\n",
    "                                      )(h2)\n",
    "\n",
    "\n",
    "        if mode == \"PGNN_4\":\n",
    "            merged = tf.keras.layers.Concatenate()([h3,phys])\n",
    "            h4 = tf.keras.layers.Dense(hidden_nodes, activation=tf.nn.relu, \n",
    "                                       kernel_initializer=tf.keras.initializers.RandomNormal(stddev=0.01),\n",
    "                                       bias_initializer=tf.keras.initializers.Zeros()\n",
    "                                      )(merged)\n",
    "        else:\n",
    "            h4 = tf.keras.layers.Dense(hidden_nodes, activation=tf.nn.relu, \n",
    "                                       kernel_initializer=tf.keras.initializers.RandomNormal(stddev=0.01),\n",
    "                                       bias_initializer=tf.keras.initializers.Zeros()\n",
    "                                      )(h3)\n",
    "\n",
    "        if mode == \"PGNN_5\":\n",
    "            merged = tf.keras.layers.Concatenate()([h4,phys])\n",
    "            h5 = tf.keras.layers.Dense(hidden_nodes, activation=tf.nn.relu, \n",
    "                                       kernel_initializer=tf.keras.initializers.RandomNormal(stddev=0.01),\n",
    "                                       bias_initializer=tf.keras.initializers.Zeros()\n",
    "                                      )(merged)\n",
    "        else:\n",
    "            h5 = tf.keras.layers.Dense(hidden_nodes, activation=tf.nn.relu, \n",
    "                                       kernel_initializer=tf.keras.initializers.RandomNormal(stddev=0.01),\n",
    "                                       bias_initializer=tf.keras.initializers.Zeros()\n",
    "                                      )(h4)    \n",
    "\n",
    "        if mode == \"PGNN_6\":\n",
    "            merged = tf.keras.layers.Concatenate()([h5,phys])\n",
    "            h6 = tf.keras.layers.Dense(hidden_nodes, activation=tf.nn.relu, \n",
    "                                       kernel_initializer=tf.keras.initializers.RandomNormal(stddev=0.01),\n",
    "                                       bias_initializer=tf.keras.initializers.Zeros()\n",
    "                                      )(merged)\n",
    "        else:\n",
    "            h6 = tf.keras.layers.Dense(hidden_nodes, activation=tf.nn.relu, \n",
    "                                       kernel_initializer=tf.keras.initializers.RandomNormal(stddev=0.01),\n",
    "                                       bias_initializer=tf.keras.initializers.Zeros()\n",
    "                                      )(h5)  \n",
    "\n",
    "        outputs = tf.keras.layers.Dense(2, activation=None, \n",
    "                                   kernel_initializer=tf.keras.initializers.RandomNormal(stddev=0.01),\n",
    "                                   bias_initializer=tf.keras.initializers.Zeros()\n",
    "                                  )(h6)\n",
    "        model = tf.keras.Model(inputs=[inputs,phys],outputs = outputs)\n",
    "\n",
    "\n",
    "        # compiel NN\n",
    "        if optimizer==\"adam\":\n",
    "            model.compile(\n",
    "                optimizer=tf.keras.optimizers.Adam(learning_rate=local_lr),\n",
    "                #ptimizer=tf.keras.optimizers.SGD(learning_rate=local_lr),\n",
    "                loss = \"mse\", \n",
    "            )\n",
    "        elif optimizer ==\"SGD\":\n",
    "            model.compile(\n",
    "                #optimizer=tf.keras.optimizers.Adam(learning_rate=local_lr),\n",
    "                optimizer=tf.keras.optimizers.SGD(learning_rate=local_lr),\n",
    "                loss = \"mse\", \n",
    "            )\n",
    "        return model\n",
    "    \n",
    "    \n",
    "    optimizer_global = tf.keras.optimizers.Adam(global_lr)\n",
    "    yep = len(train)\n",
    "    model_global= build_nn()\n",
    "    model_global.optimizer=optimizer_global\n",
    "    mw_global = model_global.get_weights()\n",
    "    \n",
    "    \n",
    "    \n",
    "    val_loss_ref=1e10\n",
    "    best_val_loss=1e10\n",
    "    mw_locals = []\n",
    "    losses = []\n",
    "    val_losses=[]\n",
    "    val_loss_global=[]\n",
    "    for i in range(yep):\n",
    "        mw_locals.append(0)\n",
    "        losses.append([])\n",
    "        val_losses.append([])\n",
    "    valg = [[],[],[]]\n",
    "    \n",
    "    for j in range(3):\n",
    "        for i in range(len(val)):\n",
    "            if mode == \"DDNN\" and j==1:\n",
    "                valg[j].append(np.reshape(val[i][j][:,0],(val[i][j].shape[0],1)))\n",
    "            else:\n",
    "                valg[j].append(val[i][j])\n",
    "        valg[j]=np.array(valg[j])\n",
    "        valg[j] =np.reshape(valg[j],(-1,valg[j].shape[2]))\n",
    "    \n",
    "        \n",
    "    if collection in [\"epoch\",\"batch\"]:\n",
    "        model_local=[]\n",
    "        if federated == \"FedAvg\":\n",
    "            for i in range(yep):\n",
    "                model_local.append(build_nn())\n",
    "        elif federated == \"FedOpt\":\n",
    "            for i in range(yep):\n",
    "                model_local.append(build_nn(\"SGD\"))\n",
    "        for i in tqdm(range(aggregation_steps)): \n",
    "\n",
    "            for j in range(yep):\n",
    "                model_local[j].set_weights(mw_global)\n",
    "\n",
    "                if collection == \"epoch\":\n",
    "                    if mode == \"DDNN\":\n",
    "                        history = model_local[j].fit(\n",
    "                            x = [train[j][0],train[j][1][:,0]],\n",
    "                            y = train[j][2],\n",
    "                            batch_size = batch_size,\n",
    "                            epochs = epochs,\n",
    "                            validation_data = ([val[j][0], val[j][1][:,0]],val[j][2]),\n",
    "                                verbose=0)\n",
    "                    else:\n",
    "                        history = model_local[j].fit(\n",
    "                            x = [train[j][0],train[j][1]],\n",
    "                            y = train[j][2],\n",
    "                            batch_size = batch_size,\n",
    "                            epochs = epochs,\n",
    "                            validation_data = ([val[j][0], val[j][1]],val[j][2]),\n",
    "                                verbose =0.\n",
    "                            )\n",
    "                        \n",
    "                elif collection == \"batch\":\n",
    "                    batch = np.random.choice(range(0, len(train[j][0])), size=batch_size, replace=False)\n",
    "                    if mode == \"DDNN\":\n",
    "                        history = model_local[j].fit(\n",
    "                            x = [train[j][0][batch],train[j][1][batch,0]],\n",
    "                            y = train[j][2][batch],\n",
    "                            batch_size = batch_size,\n",
    "                            epochs = 1,\n",
    "                                verbose =0.\n",
    "                            )\n",
    "                    else:\n",
    "                        history = model_local[j].fit(\n",
    "                            x = [train[j][0][batch],train[j][1][batch,0]],\n",
    "                            y = train[j][2][batch],\n",
    "                            batch_size = batch_size,\n",
    "                            epochs = 1,\n",
    "                                verbose =0.\n",
    "                            )\n",
    "\n",
    "\n",
    "                mw_locals[j] = model_local[j].get_weights()\n",
    "                losses[j]+=history.history[\"loss\"]\n",
    "                #val_losses[j] += history.history[\"val_loss\"]\n",
    "                #print(\"locals\",mw_locals[j][0][0,:3])\n",
    "\n",
    "            if federated == \"FedAvg\":\n",
    "                # FedAvg:\n",
    "                for k in range(len(mw_global)):\n",
    "                    mw_global[k] = mw_locals[0][k]\n",
    "                    for j in range(1,yep):\n",
    "                        mw_global[k] += np.array(mw_locals[j][k])\n",
    "                    mw_global[k]=mw_global[k]/yep\n",
    "                \n",
    "                model_global.set_weights(mw_global)\n",
    "                #print(\"globals\", mw_global[0][0,:3])\n",
    "\n",
    "            elif federated == \"FedOpt\":\n",
    "                # FedOpt (Adam)\n",
    "                grad=[]\n",
    "                for k in range(len(mw_global)):\n",
    "                    grad.append(mw_locals[0][k])\n",
    "                    for j in range(1,yep):\n",
    "                        grad[k] += np.array(mw_locals[j][k])\n",
    "                    grad[k]=tf.cast(mw_global[k]-grad[k]/yep, tf.float32)\n",
    "                optimizer_global.apply_gradients(zip(grad, model_global.trainable_weights))\n",
    "                mw_global = model_global.get_weights()\n",
    "\n",
    "\n",
    "            # this could be done on each model and combined but the computation is identical and this is faster\n",
    "            \n",
    "            val_loss_global.append(model_global.evaluate(x = [valg[0], valg[1]], y = [valg[2]], verbose=0))\n",
    "            if val_loss_global[i] < val_loss_ref:\n",
    "                best_weights=mw_global\n",
    "                best_val_loss=val_loss_global[i]\n",
    "                val_loss_ref=val_loss_global[i]\n",
    "            \n",
    "            \n",
    "            if verbose>1:\n",
    "                print(\"glob \",np.round(val_loss_global[i],4),\"best\",np.round(best_val_loss,4))#,\"other\",np.round(np.array(val_losses)[:,-1],4)) \n",
    "            #del model\n",
    "            #K.clear_session()\n",
    "            #_=gc.collect()\n",
    "            #if losses[0][-1][1]>:\n",
    "        mw_global = best_weights\n",
    "        \n",
    "        \n",
    "    \n",
    "    \n",
    "    elif collection==\"mirror\":\n",
    "        if federated == \"FedAvg\":\n",
    "            model_local = build_nn()\n",
    "        elif federated == \"FedOpt\":\n",
    "            model_local = build_nn(\"SGD\")\n",
    "        # to improve computation\n",
    "        for i in range(len(train)):\n",
    "            for j in range(len(train[i])):\n",
    "                train[i][j] = tf.constant(train[i][j])\n",
    "                val[i][j] = tf.constant(val[i][j])\n",
    "        \n",
    "        clients =len(train)\n",
    "        training_size = len(train[0][0])\n",
    "        tf_mse = tf.keras.losses.MeanSquaredError()\n",
    "        \n",
    "        \n",
    "        for i in tqdm(range(epochs)): \n",
    "            epoch = np.random.choice(range(clients*training_size),\n",
    "                                           size=int(clients*training_size/batch_size)*batch_size, replace=False)\n",
    "            \n",
    "            for b in range(int(len(epoch)/batch_size)):  \n",
    "                # batches\n",
    "                batch = epoch[batch_size*b:batch_size*(b+1)]\n",
    "                                     \n",
    "                gradients=[]\n",
    "                \n",
    "                model_local.set_weights(mw_global) # no need to repeat for each client because isn't changed\n",
    "                for j in range(clients):\n",
    "                    mask = ((batch >= j*training_size) & (batch < (j+1)*training_size))\n",
    "                    subbatch = batch[mask]-j*training_size\n",
    "                    for k in range(len(subbatch)):\n",
    "                        with tf.GradientTape() as tape:\n",
    "                            if mode == \"DDNN\":\n",
    "                                y_pred = model_local([train[j][0][subbatch[k]:subbatch[k]+1,:],\n",
    "                                                      train[j][1][subbatch[k]:subbatch[k]+1,0]])\n",
    "                            else:\n",
    "                                \n",
    "                                y_pred = model_local([train[j][0][subbatch[k]:subbatch[k]+1,:],\n",
    "                                                      train[j][1][subbatch[k]:subbatch[k]+1,:]])\n",
    "                            loss_value = tf.constant(tf_mse(train[j][2][subbatch[k]:subbatch[k]+1,:], y_pred))\n",
    "                        gradients.append(tape.gradient(loss_value, model_local.trainable_weights))\n",
    "                gradients_sum=[]\n",
    "                grad_t = list(map(list, zip(*gradients)))\n",
    "                for k in range(len(grad_t)):\n",
    "                    gradients_sum.append(tf.add_n(grad_t[k]))\n",
    "                optimizer_global.apply_gradients(zip(gradients_sum, model_global.trainable_weights))\n",
    "                mw_global = model_global.get_weights()\n",
    "                \n",
    "            model_local.set_weights(mw_global)\n",
    "            val_loss_global.append(model_local.evaluate(x = [valg[0], valg[1]], y = [valg[2]], verbose=0))\n",
    "            if val_loss_global[i] < val_loss_ref:\n",
    "                best_weights=mw_global\n",
    "                best_val_loss=val_loss_global[i]\n",
    "                val_loss_ref=val_loss_global[i]\n",
    "            \n",
    "            if verbose>1:\n",
    "                print(\"Epoch\",i,\"glob \",np.round(val_loss_global[i],4),\"best\",np.round(best_val_loss,4))#,\"other\",np.round(np.array(val_losses)[:,-1],4)) \n",
    "            #del model\n",
    "            #K.clear_session()\n",
    "            #_=gc.collect()\n",
    "            #if losses[0][-1][1]>:\n",
    "        mw_global = best_weights\n",
    "        \n",
    "    \n",
    "    #model=build_nn()\n",
    "    history=[]\n",
    "    model_global.set_weights(mw_global)\n",
    "    return model_global, history, losses, val_losses, val_loss_global\n",
    "\n",
    "\n",
    "\n",
    "\n",
    "\n",
    "\n",
    "\n",
    "# function for trtaining single nn\n",
    "def train_nn(mode,\n",
    "            x_train,\n",
    "            x_train_phys,\n",
    "            y_train,\n",
    "            x_val,\n",
    "            x_val_phys,\n",
    "            y_val,\n",
    "             verbose,\n",
    "             epochs\n",
    "            ):\n",
    "    # build NN\n",
    "    inputs = tf.keras.layers.Input(40,)\n",
    "    if \"PGNN\" in mode:\n",
    "        phys = tf.keras.layers.Input(3,)\n",
    "        inputs2 = inputs\n",
    "    elif mode == \"DDNN\":\n",
    "        phys = tf.keras.layers.Input(1,)\n",
    "        inputs2 = tf.keras.layers.Concatenate()([inputs,phys])\n",
    "        \n",
    "    hidden_nodes = 20\n",
    "    \n",
    "    \n",
    "    if mode == \"PGNN_1\":\n",
    "        merged = tf.keras.layers.Concatenate()([inputs2,phys])\n",
    "        h1 = tf.keras.layers.Dense(hidden_nodes, activation=tf.nn.relu, \n",
    "                                   kernel_initializer=tf.keras.initializers.RandomNormal(stddev=0.01),\n",
    "                                   bias_initializer=tf.keras.initializers.Zeros()\n",
    "                                  )(merged)\n",
    "    else:\n",
    "        h1 = tf.keras.layers.Dense(hidden_nodes, activation=tf.nn.relu, \n",
    "                                   kernel_initializer=tf.keras.initializers.RandomNormal(stddev=0.01),\n",
    "                                   bias_initializer=tf.keras.initializers.Zeros()\n",
    "                                  )(inputs2)\n",
    "    \n",
    "    if mode == \"PGNN_2\":\n",
    "        merged = tf.keras.layers.Concatenate()([h1,phys])\n",
    "        h2 = tf.keras.layers.Dense(hidden_nodes, activation=tf.nn.relu, \n",
    "                                   kernel_initializer=tf.keras.initializers.RandomNormal(stddev=0.01),\n",
    "                                   bias_initializer=tf.keras.initializers.Zeros()\n",
    "                                  )(merged)\n",
    "    else:\n",
    "        h2 = tf.keras.layers.Dense(hidden_nodes, activation=tf.nn.relu, \n",
    "                                   kernel_initializer=tf.keras.initializers.RandomNormal(stddev=0.01),\n",
    "                                   bias_initializer=tf.keras.initializers.Zeros()\n",
    "                                  )(h1)\n",
    "    \n",
    "    if mode == \"PGNN_3\":\n",
    "        merged = tf.keras.layers.Concatenate()([h2,phys])\n",
    "        h3 = tf.keras.layers.Dense(hidden_nodes, activation=tf.nn.relu, \n",
    "                                   kernel_initializer=tf.keras.initializers.RandomNormal(stddev=0.01),\n",
    "                                   bias_initializer=tf.keras.initializers.Zeros()\n",
    "                                  )(merged)\n",
    "    else:\n",
    "        h3 = tf.keras.layers.Dense(hidden_nodes, activation=tf.nn.relu, \n",
    "                                   kernel_initializer=tf.keras.initializers.RandomNormal(stddev=0.01),\n",
    "                                   bias_initializer=tf.keras.initializers.Zeros()\n",
    "                                  )(h2)\n",
    "        \n",
    "        \n",
    "    if mode == \"PGNN_4\":\n",
    "        merged = tf.keras.layers.Concatenate()([h3,phys])\n",
    "        h4 = tf.keras.layers.Dense(hidden_nodes, activation=tf.nn.relu, \n",
    "                                   kernel_initializer=tf.keras.initializers.RandomNormal(stddev=0.01),\n",
    "                                   bias_initializer=tf.keras.initializers.Zeros()\n",
    "                                  )(merged)\n",
    "    else:\n",
    "        h4 = tf.keras.layers.Dense(hidden_nodes, activation=tf.nn.relu, \n",
    "                                   kernel_initializer=tf.keras.initializers.RandomNormal(stddev=0.01),\n",
    "                                   bias_initializer=tf.keras.initializers.Zeros()\n",
    "                                  )(h3)\n",
    "        \n",
    "    if mode == \"PGNN_5\":\n",
    "        merged = tf.keras.layers.Concatenate()([h4,phys])\n",
    "        h5 = tf.keras.layers.Dense(hidden_nodes, activation=tf.nn.relu, \n",
    "                                   kernel_initializer=tf.keras.initializers.RandomNormal(stddev=0.01),\n",
    "                                   bias_initializer=tf.keras.initializers.Zeros()\n",
    "                                  )(merged)\n",
    "    else:\n",
    "        h5 = tf.keras.layers.Dense(hidden_nodes, activation=tf.nn.relu, \n",
    "                                   kernel_initializer=tf.keras.initializers.RandomNormal(stddev=0.01),\n",
    "                                   bias_initializer=tf.keras.initializers.Zeros()\n",
    "                                  )(h4)    \n",
    "    \n",
    "    if mode == \"PGNN_6\":\n",
    "        merged = tf.keras.layers.Concatenate()([h5,phys])\n",
    "        h6 = tf.keras.layers.Dense(hidden_nodes, activation=tf.nn.relu, \n",
    "                                   kernel_initializer=tf.keras.initializers.RandomNormal(stddev=0.01),\n",
    "                                   bias_initializer=tf.keras.initializers.Zeros()\n",
    "                                  )(merged)\n",
    "    else:\n",
    "        h6 = tf.keras.layers.Dense(hidden_nodes, activation=tf.nn.relu, \n",
    "                                   kernel_initializer=tf.keras.initializers.RandomNormal(stddev=0.01),\n",
    "                                   bias_initializer=tf.keras.initializers.Zeros()\n",
    "                                  )(h5)  \n",
    "        \n",
    "    outputs = tf.keras.layers.Dense(2, activation=None, \n",
    "                               kernel_initializer=tf.keras.initializers.RandomNormal(stddev=0.01),\n",
    "                               bias_initializer=tf.keras.initializers.Zeros()\n",
    "                              )(h6)\n",
    "    model = tf.keras.Model(inputs=[inputs,phys],outputs = outputs)\n",
    "   \n",
    "    # compiel NN\n",
    "    model.compile(\n",
    "        optimizer=tf.keras.optimizers.Adam(learning_rate=0.01),\n",
    "        loss = \"mse\",\n",
    "    )\n",
    "        \n",
    "\n",
    "    patience=[2000,200]\n",
    "        \n",
    "    history = model.fit(\n",
    "        x = [x_train,x_train_phys],\n",
    "        y = y_train,\n",
    "        batch_size = 64,\n",
    "        epochs = epochs,\n",
    "        callbacks = [\n",
    "                tf.keras.callbacks.EarlyStopping(\n",
    "                    monitor=\"val_loss\",\n",
    "                    min_delta=0,\n",
    "                    patience=patience[1],\n",
    "                    verbose=0,\n",
    "                    restore_best_weights=True,\n",
    "                    start_from_epoch=0,\n",
    "                    ),\n",
    "                #tf.keras.callbacks.ReduceLROnPlateau(\n",
    "                #    monitor=\"val_loss\",\n",
    "                #    factor=0.1,\n",
    "                #    patience=patience[0],\n",
    "                #    min_delta=0,\n",
    "                #    )\n",
    "                ],\n",
    "        validation_data = ([x_val, x_val_phys],y_val),\n",
    "            verbose = verbose\n",
    "        )\n",
    "    return model, history\n",
    "\n",
    "\n",
    "\n",
    "\n",
    "\n",
    "\n",
    "# MSE\n",
    "def MSE(x,y):\n",
    "    x = np.reshape(np.array(x),-1)\n",
    "    y = np.reshape(np.array(y),-1)\n",
    "    z = np.mean((x-y)**2)\n",
    "    return z\n",
    "\n",
    "\n",
    "\n",
    "\n",
    "# building ensemble\n",
    "def build_ensemble(\n",
    "            nns, \n",
    "            mode, \n",
    "            x_train=None,\n",
    "            x_train_phys=None,\n",
    "            y_train=None,\n",
    "            x_val=None,\n",
    "            x_val_phys=None,\n",
    "            y_val=None,\n",
    "            train=None,\n",
    "            val=None,\n",
    "            verbose = 0,\n",
    "            federated=None,\n",
    "            aggregation_steps = None,\n",
    "            epochs=None,\n",
    "            batch_size=None,\n",
    "            collection=None,\n",
    "            a=None,\n",
    "    local_lr=None,\n",
    "    global_lr=None,\n",
    "            ):\n",
    "    models, histories = [], []\n",
    "    \n",
    "    if a != None:\n",
    "        x_test, x_test_phys, y_test = a[0], a[1], a[2]\n",
    "        mse_federated=[]\n",
    "        mse_federated_lift=[]\n",
    "        mse_federated_drag=[]\n",
    "        y=[]\n",
    "    for i in range(nns):\n",
    "        if federated!=None:\n",
    "            \n",
    "            model, history, _, _, _ = train_nn_federated(mode,\n",
    "                                                         train,\n",
    "                                                         val,\n",
    "                                                         verbose-1,\n",
    "                                                         aggregation_steps,\n",
    "                                                         epochs,\n",
    "                                                         federated = federated,\n",
    "                                                            batch_size=batch_size,\n",
    "                                                        collection=collection,\n",
    "                                                        local_lr=local_lr,\n",
    "                                                        global_lr = global_lr)\n",
    "            \n",
    "            if a != None:\n",
    "                if mode == \"DDNN\":\n",
    "                    y_pred = model.predict( x = [\n",
    "                                    x_test,\n",
    "                                    x_test_phys[:,0],\n",
    "                                    #x_test_phys,\n",
    "                                    ],verbose=0)\n",
    "                else:\n",
    "                    y_pred = model.predict( x = [\n",
    "                                    x_test,\n",
    "                                    #x_test_phys[:,0],\n",
    "                                    x_test_phys,\n",
    "                                    ],verbose=0)\n",
    "                mse_federated.append(MSE(y_pred,y_test))\n",
    "                mse_federated_lift.append(MSE(y_pred[:,0],y_test[:,0]))\n",
    "                mse_federated_drag.append(MSE(y_pred[:,1],y_test[:,1]))\n",
    "                y.append([y_pred,y_test])\n",
    "                del model\n",
    "                K.clear_session()\n",
    "                _=gc.collect()\n",
    "            if verbose>0:\n",
    "                print(\"NN \",i,\", MSE \",mse_federated[i])\n",
    "        else:\n",
    "            model, history = train_nn(mode, x_train,x_train_phys, y_train,x_val,x_val_phys,y_val,verbose-1,epochs)\n",
    "            if verbose>0:\n",
    "                print(\"NN \",i, \n",
    "                  \", Epochs\",len(history.history[\"loss\"]),\n",
    "                  \", loss\", history.history[\"loss\"][-1], \n",
    "                  \", val_loss\", history.history[\"val_loss\"][-1])\n",
    "            \n",
    "        if a==None:\n",
    "            models.append(model)\n",
    "            histories.append(history)\n",
    "            \n",
    "        \n",
    "    if a != None:\n",
    "        return models, histories, y, mse_federated, mse_federated_lift, mse_federated_drag\n",
    "    else:\n",
    "        return models, histories\n",
    "\n",
    "import datetime\n",
    "class Timer():\n",
    "    def __init__(self):\n",
    "        self.t={}\n",
    "    def start(self,x):\n",
    "        self.t[x]=datetime.datetime.now()\n",
    "    def end(self,x):\n",
    "        print(x,datetime.datetime.now()-self.t[x])\n",
    "\n",
    "timer = Timer()"
   ]
  },
  {
   "cell_type": "markdown",
   "id": "039fd5b8",
   "metadata": {},
   "source": [
    "# Evaluate different modes"
   ]
  },
  {
   "cell_type": "markdown",
   "id": "7c873199",
   "metadata": {},
   "source": [
    "## FedAvg"
   ]
  },
  {
   "cell_type": "code",
   "execution_count": 9,
   "id": "7260cd47",
   "metadata": {
    "scrolled": false
   },
   "outputs": [
    {
     "data": {
      "application/vnd.jupyter.widget-view+json": {
       "model_id": "3d46012afa39446c9e1049a75a4859f1",
       "version_major": 2,
       "version_minor": 0
      },
      "text/plain": [
       "  0%|          | 0/200 [00:00<?, ?it/s]"
      ]
     },
     "metadata": {},
     "output_type": "display_data"
    },
    {
     "name": "stdout",
     "output_type": "stream",
     "text": [
      "NN  0 , MSE  0.004455658492320829\n",
      "[0.004455658492320829]\n",
      "[0.005684939825478374]\n",
      "[0.0032263771591632827]\n"
     ]
    },
    {
     "data": {
      "application/vnd.jupyter.widget-view+json": {
       "model_id": "f71bd51da3cc4a09827ce51527ced80d",
       "version_major": 2,
       "version_minor": 0
      },
      "text/plain": [
       "  0%|          | 0/200 [00:00<?, ?it/s]"
      ]
     },
     "metadata": {},
     "output_type": "display_data"
    },
    {
     "name": "stdout",
     "output_type": "stream",
     "text": [
      "NN  0 , MSE  0.003568802116450215\n",
      "[0.003568802116450215]\n",
      "[0.0035703462047133334]\n",
      "[0.0035672580281870953]\n"
     ]
    },
    {
     "data": {
      "application/vnd.jupyter.widget-view+json": {
       "model_id": "47d3bb25edc4462282396f101f5ce13a",
       "version_major": 2,
       "version_minor": 0
      },
      "text/plain": [
       "  0%|          | 0/200 [00:00<?, ?it/s]"
      ]
     },
     "metadata": {},
     "output_type": "display_data"
    },
    {
     "name": "stdout",
     "output_type": "stream",
     "text": [
      "NN  0 , MSE  0.0037041196809651064\n",
      "[0.0037041196809651064]\n",
      "[0.004578065908155928]\n",
      "[0.0028301734537742843]\n"
     ]
    },
    {
     "data": {
      "application/vnd.jupyter.widget-view+json": {
       "model_id": "7339778873b8468db97639edeb80975b",
       "version_major": 2,
       "version_minor": 0
      },
      "text/plain": [
       "  0%|          | 0/200 [00:00<?, ?it/s]"
      ]
     },
     "metadata": {},
     "output_type": "display_data"
    },
    {
     "name": "stdout",
     "output_type": "stream",
     "text": [
      "NN  0 , MSE  0.005386871420300489\n",
      "[0.005386871420300489]\n",
      "[0.006589886804999921]\n",
      "[0.004183856035601058]\n"
     ]
    },
    {
     "data": {
      "application/vnd.jupyter.widget-view+json": {
       "model_id": "73b4292b707747c6be1e6f0cc6d2792e",
       "version_major": 2,
       "version_minor": 0
      },
      "text/plain": [
       "  0%|          | 0/200 [00:00<?, ?it/s]"
      ]
     },
     "metadata": {},
     "output_type": "display_data"
    },
    {
     "name": "stdout",
     "output_type": "stream",
     "text": [
      "NN  0 , MSE  0.00301149522894789\n",
      "[0.00301149522894789]\n",
      "[0.003872963357922218]\n",
      "[0.0021500270999735625]\n"
     ]
    },
    {
     "data": {
      "application/vnd.jupyter.widget-view+json": {
       "model_id": "889e599f65d8406dab993d8757d2dad3",
       "version_major": 2,
       "version_minor": 0
      },
      "text/plain": [
       "  0%|          | 0/200 [00:00<?, ?it/s]"
      ]
     },
     "metadata": {},
     "output_type": "display_data"
    },
    {
     "name": "stdout",
     "output_type": "stream",
     "text": [
      "NN  0 , MSE  0.00358699016764857\n",
      "[0.00358699016764857]\n",
      "[0.004549188428186099]\n",
      "[0.0026247919071110425]\n"
     ]
    },
    {
     "data": {
      "application/vnd.jupyter.widget-view+json": {
       "model_id": "57761b5385ea409abd113de33f8c5d8f",
       "version_major": 2,
       "version_minor": 0
      },
      "text/plain": [
       "  0%|          | 0/200 [00:00<?, ?it/s]"
      ]
     },
     "metadata": {},
     "output_type": "display_data"
    },
    {
     "name": "stdout",
     "output_type": "stream",
     "text": [
      "NN  0 , MSE  0.005906250962273698\n",
      "[0.005906250962273698]\n",
      "[0.005621032337566391]\n",
      "[0.0061914695869810035]\n"
     ]
    },
    {
     "data": {
      "application/vnd.jupyter.widget-view+json": {
       "model_id": "5a6c9e84d3da4f3abfcc924b154f7ab5",
       "version_major": 2,
       "version_minor": 0
      },
      "text/plain": [
       "  0%|          | 0/200 [00:00<?, ?it/s]"
      ]
     },
     "metadata": {},
     "output_type": "display_data"
    },
    {
     "name": "stdout",
     "output_type": "stream",
     "text": [
      "NN  0 , MSE  0.0035505766936244475\n",
      "[0.0035505766936244475]\n",
      "[0.004295994859379055]\n",
      "[0.0028051585278698406]\n"
     ]
    },
    {
     "data": {
      "application/vnd.jupyter.widget-view+json": {
       "model_id": "ccc10dff3ac541e395a07781b513b267",
       "version_major": 2,
       "version_minor": 0
      },
      "text/plain": [
       "  0%|          | 0/200 [00:00<?, ?it/s]"
      ]
     },
     "metadata": {},
     "output_type": "display_data"
    },
    {
     "name": "stdout",
     "output_type": "stream",
     "text": [
      "NN  0 , MSE  0.0035567837673255633\n",
      "[0.0035567837673255633]\n",
      "[0.004390461284261219]\n",
      "[0.0027231062503899083]\n"
     ]
    },
    {
     "data": {
      "application/vnd.jupyter.widget-view+json": {
       "model_id": "475d359106e74db5ac09b39d366236ad",
       "version_major": 2,
       "version_minor": 0
      },
      "text/plain": [
       "  0%|          | 0/200 [00:00<?, ?it/s]"
      ]
     },
     "metadata": {},
     "output_type": "display_data"
    },
    {
     "name": "stdout",
     "output_type": "stream",
     "text": [
      "NN  0 , MSE  0.0031920064870510846\n",
      "[0.0031920064870510846]\n",
      "[0.0034262615798617392]\n",
      "[0.00295775139424043]\n"
     ]
    }
   ],
   "source": [
    "\n",
    "    \n",
    "for i in range(10):\n",
    "    with open(\"federated_stats\"+ext+\".pkl\",\"rb\") as f:\n",
    "        m = pickle.load(f)\n",
    "        if \"FedAvg\" in m:\n",
    "            FedAvg = m[\"FedAvg\"]\n",
    "        else:\n",
    "            FedAvg = {\n",
    "                \"models\":[],\n",
    "                \"hists\":[],\n",
    "                \"pred\":[],\n",
    "                \"mse_federated\":[],\n",
    "                \"mse_federated_lift\":[],\n",
    "                \"mse_federated_drag\":[],\n",
    "            }\n",
    "            \n",
    "    models, hists, y, mse_federated, mse_federated_lift, mse_federated_drag = build_ensemble(\n",
    "                nns = 1, \n",
    "                #mode = \"DDNN\",\n",
    "                mode = \"PGNN_4\", \n",
    "                train = data_sets_train,\n",
    "                val = data_sets_val,\n",
    "                verbose = 1,\n",
    "            federated = \"FedAvg\",\n",
    "            aggregation_steps = 200, # 2000 for epoch, 7*2000 for batch\n",
    "            epochs=1,\n",
    "        batch_size=64, # 64 for epoch and mirror, 11 for batch\n",
    "        collection=\"epoch\",\n",
    "        local_lr=0.01, # 0.01 for fedavg\n",
    "        global_lr=0.01,\n",
    "        a=a_test\n",
    "        )\n",
    "\n",
    "    FedAvg[\"pred\"].extend(y)\n",
    "    FedAvg[\"mse_federated\"].extend(mse_federated)\n",
    "    FedAvg[\"mse_federated_lift\"].extend(mse_federated_lift)\n",
    "    FedAvg[\"mse_federated_drag\"].extend(mse_federated_drag)\n",
    "    print(mse_federated)\n",
    "    print(mse_federated_lift)\n",
    "    print(mse_federated_drag)\n",
    "    m[\"FedAvg\"]=FedAvg\n",
    "    with open(\"federated_stats\"+ext+\".pkl\",\"wb\") as f:\n",
    "        pickle.dump(m,f)\n",
    "    "
   ]
  },
  {
   "cell_type": "markdown",
   "id": "71bf4e64",
   "metadata": {},
   "source": [
    "## FedOpt"
   ]
  },
  {
   "cell_type": "code",
   "execution_count": 9,
   "id": "e29f4421",
   "metadata": {},
   "outputs": [
    {
     "data": {
      "application/vnd.jupyter.widget-view+json": {
       "model_id": "e7ab887dc879468882d41e46cd5fca2c",
       "version_major": 2,
       "version_minor": 0
      },
      "text/plain": [
       "  0%|          | 0/200 [00:00<?, ?it/s]"
      ]
     },
     "metadata": {},
     "output_type": "display_data"
    },
    {
     "name": "stdout",
     "output_type": "stream",
     "text": [
      "NN  0 , MSE  0.0040338668230696095\n",
      "[0.0040338668230696095]\n",
      "[0.005729964038930999]\n",
      "[0.0023377696072082216]\n"
     ]
    },
    {
     "data": {
      "application/vnd.jupyter.widget-view+json": {
       "model_id": "5b2177fc73d2465e9c94be1a6ff0eb4e",
       "version_major": 2,
       "version_minor": 0
      },
      "text/plain": [
       "  0%|          | 0/200 [00:00<?, ?it/s]"
      ]
     },
     "metadata": {},
     "output_type": "display_data"
    },
    {
     "name": "stdout",
     "output_type": "stream",
     "text": [
      "NN  0 , MSE  0.003980400820690683\n",
      "[0.003980400820690683]\n",
      "[0.005481451435733512]\n",
      "[0.002479350205647855]\n"
     ]
    },
    {
     "data": {
      "application/vnd.jupyter.widget-view+json": {
       "model_id": "d2c9857eba604e698231e9ad610f3d25",
       "version_major": 2,
       "version_minor": 0
      },
      "text/plain": [
       "  0%|          | 0/200 [00:00<?, ?it/s]"
      ]
     },
     "metadata": {},
     "output_type": "display_data"
    },
    {
     "name": "stdout",
     "output_type": "stream",
     "text": [
      "NN  0 , MSE  0.005178456242005227\n",
      "[0.005178456242005227]\n",
      "[0.007008002507916962]\n",
      "[0.003348909976093492]\n"
     ]
    },
    {
     "data": {
      "application/vnd.jupyter.widget-view+json": {
       "model_id": "4f5477da911f440a97465a9cf6d343a8",
       "version_major": 2,
       "version_minor": 0
      },
      "text/plain": [
       "  0%|          | 0/200 [00:00<?, ?it/s]"
      ]
     },
     "metadata": {},
     "output_type": "display_data"
    },
    {
     "name": "stdout",
     "output_type": "stream",
     "text": [
      "NN  0 , MSE  0.006595370521301498\n",
      "[0.006595370521301498]\n",
      "[0.01068839481854239]\n",
      "[0.0025023462240606064]\n"
     ]
    },
    {
     "data": {
      "application/vnd.jupyter.widget-view+json": {
       "model_id": "aa114d0d641c4e8c9813be7b504072fe",
       "version_major": 2,
       "version_minor": 0
      },
      "text/plain": [
       "  0%|          | 0/200 [00:00<?, ?it/s]"
      ]
     },
     "metadata": {},
     "output_type": "display_data"
    },
    {
     "name": "stdout",
     "output_type": "stream",
     "text": [
      "NN  0 , MSE  0.004695816822997553\n",
      "[0.004695816822997553]\n",
      "[0.006403788238715843]\n",
      "[0.002987845407279264]\n"
     ]
    },
    {
     "data": {
      "application/vnd.jupyter.widget-view+json": {
       "model_id": "cafbb9f404d9423e954cc2ea3de3ce37",
       "version_major": 2,
       "version_minor": 0
      },
      "text/plain": [
       "  0%|          | 0/200 [00:00<?, ?it/s]"
      ]
     },
     "metadata": {},
     "output_type": "display_data"
    },
    {
     "name": "stdout",
     "output_type": "stream",
     "text": [
      "NN  0 , MSE  0.003988597360918719\n",
      "[0.003988597360918719]\n",
      "[0.005276501343929732]\n",
      "[0.0027006933779077074]\n"
     ]
    },
    {
     "data": {
      "application/vnd.jupyter.widget-view+json": {
       "model_id": "238c53b26f7445868ca70aeaebec9f2e",
       "version_major": 2,
       "version_minor": 0
      },
      "text/plain": [
       "  0%|          | 0/200 [00:00<?, ?it/s]"
      ]
     },
     "metadata": {},
     "output_type": "display_data"
    },
    {
     "name": "stdout",
     "output_type": "stream",
     "text": [
      "NN  0 , MSE  0.004083912504127403\n",
      "[0.004083912504127403]\n",
      "[0.005635965317542027]\n",
      "[0.0025318596907127787]\n"
     ]
    },
    {
     "data": {
      "application/vnd.jupyter.widget-view+json": {
       "model_id": "b26aea8b0e9c481783667b0dacc886ef",
       "version_major": 2,
       "version_minor": 0
      },
      "text/plain": [
       "  0%|          | 0/200 [00:00<?, ?it/s]"
      ]
     },
     "metadata": {},
     "output_type": "display_data"
    },
    {
     "name": "stdout",
     "output_type": "stream",
     "text": [
      "NN  0 , MSE  0.004149571108414932\n",
      "[0.004149571108414932]\n",
      "[0.005903805898521416]\n",
      "[0.0023953363183084487]\n"
     ]
    },
    {
     "data": {
      "application/vnd.jupyter.widget-view+json": {
       "model_id": "50b9a909e5c84cb5a8a7b8b67d2bb5dd",
       "version_major": 2,
       "version_minor": 0
      },
      "text/plain": [
       "  0%|          | 0/200 [00:00<?, ?it/s]"
      ]
     },
     "metadata": {},
     "output_type": "display_data"
    },
    {
     "name": "stdout",
     "output_type": "stream",
     "text": [
      "NN  0 , MSE  0.004201798753318809\n",
      "[0.004201798753318809]\n",
      "[0.005584502579681697]\n",
      "[0.002819094926955921]\n"
     ]
    },
    {
     "data": {
      "application/vnd.jupyter.widget-view+json": {
       "model_id": "338722bc538a4d8e95cab6b18fcd57c2",
       "version_major": 2,
       "version_minor": 0
      },
      "text/plain": [
       "  0%|          | 0/200 [00:00<?, ?it/s]"
      ]
     },
     "metadata": {},
     "output_type": "display_data"
    },
    {
     "name": "stdout",
     "output_type": "stream",
     "text": [
      "NN  0 , MSE  0.004114729556420248\n",
      "[0.004114729556420248]\n",
      "[0.005755725410921853]\n",
      "[0.0024737337019186422]\n"
     ]
    }
   ],
   "source": [
    "# federated model\n",
    "for i in range(10):\n",
    "    with open(\"federated_stats\"+ext+\".pkl\",\"rb\") as f:\n",
    "        m = pickle.load(f)\n",
    "        if \"FedOpt\" in m:\n",
    "            FedOpt = m[\"FedOpt\"]\n",
    "        else:\n",
    "            FedOpt = {\n",
    "                \"models\":[],\n",
    "                \"hists\":[],\n",
    "                \"pred\":[],\n",
    "                \"mse_federated\":[],\n",
    "                \"mse_federated_lift\":[],\n",
    "                \"mse_federated_drag\":[],\n",
    "            }\n",
    "    \n",
    "    models, hists, y, mse_federated, mse_federated_lift, mse_federated_drag = build_ensemble(\n",
    "            nns = 1, \n",
    "            #mode = \"DDNN\",\n",
    "            mode = \"PGNN_4\", \n",
    "            train = data_sets_train,\n",
    "            val = data_sets_val,\n",
    "            verbose = 1,\n",
    "        federated = \"FedOpt\",\n",
    "        aggregation_steps = 200, # 2000 for epoch, batches*2000 for batch\n",
    "        epochs=1,\n",
    "    batch_size=64, # 64 for epoch and mirror, 11 for batch\n",
    "    collection=\"epoch\",\n",
    "    #collection=\"batch\",\n",
    "    #collection=\"mirror\",\n",
    "    local_lr=0.1, # 0.01 for fedavg\n",
    "    global_lr=0.01,\n",
    "    a=a_test\n",
    "    )\n",
    "\n",
    "    FedOpt[\"pred\"].extend(y)\n",
    "    FedOpt[\"mse_federated\"].extend(mse_federated)\n",
    "    FedOpt[\"mse_federated_lift\"].extend(mse_federated_lift)\n",
    "    FedOpt[\"mse_federated_drag\"].extend(mse_federated_drag)\n",
    "    m[\"FedOpt\"]=FedOpt\n",
    "    with open(\"federated_stats\"+ext+\".pkl\",\"wb\") as f:\n",
    "        pickle.dump(m,f)\n",
    "    print(mse_federated)\n",
    "    print(mse_federated_lift)\n",
    "    print(mse_federated_drag)"
   ]
  },
  {
   "cell_type": "markdown",
   "id": "17f5432e",
   "metadata": {},
   "source": [
    "## FedOri"
   ]
  },
  {
   "cell_type": "code",
   "execution_count": 9,
   "id": "4d55c98e",
   "metadata": {},
   "outputs": [
    {
     "data": {
      "application/vnd.jupyter.widget-view+json": {
       "model_id": "6453488f96c442b19fa994d1ac1c5ec9",
       "version_major": 2,
       "version_minor": 0
      },
      "text/plain": [
       "  0%|          | 0/200 [00:00<?, ?it/s]"
      ]
     },
     "metadata": {},
     "output_type": "display_data"
    },
    {
     "name": "stdout",
     "output_type": "stream",
     "text": [
      "NN  0 , MSE  0.0018873283080652961\n",
      "[0.0018873283080652961]\n",
      "[0.001779938936423348]\n",
      "[0.0019947176797072436]\n"
     ]
    },
    {
     "data": {
      "application/vnd.jupyter.widget-view+json": {
       "model_id": "d8b1dd25622d4e5eb3c6c717ea90e2ab",
       "version_major": 2,
       "version_minor": 0
      },
      "text/plain": [
       "  0%|          | 0/200 [00:00<?, ?it/s]"
      ]
     },
     "metadata": {},
     "output_type": "display_data"
    },
    {
     "name": "stdout",
     "output_type": "stream",
     "text": [
      "NN  0 , MSE  0.0019513014753072045\n",
      "[0.0019513014753072045]\n",
      "[0.0019005810466201677]\n",
      "[0.0020020219039942407]\n"
     ]
    },
    {
     "data": {
      "application/vnd.jupyter.widget-view+json": {
       "model_id": "284dbf35f35a41b7946ea70dc2c73fbf",
       "version_major": 2,
       "version_minor": 0
      },
      "text/plain": [
       "  0%|          | 0/200 [00:00<?, ?it/s]"
      ]
     },
     "metadata": {},
     "output_type": "display_data"
    },
    {
     "name": "stdout",
     "output_type": "stream",
     "text": [
      "NN  0 , MSE  0.0005784521061361834\n",
      "[0.0005784521061361834]\n",
      "[0.0009278013684646918]\n",
      "[0.00022910284380767504]\n"
     ]
    },
    {
     "data": {
      "application/vnd.jupyter.widget-view+json": {
       "model_id": "43dcad80136a427cb6bc5e8b200a92f8",
       "version_major": 2,
       "version_minor": 0
      },
      "text/plain": [
       "  0%|          | 0/200 [00:00<?, ?it/s]"
      ]
     },
     "metadata": {},
     "output_type": "display_data"
    },
    {
     "name": "stdout",
     "output_type": "stream",
     "text": [
      "NN  0 , MSE  0.002101232382647385\n",
      "[0.002101232382647385]\n",
      "[0.0019261073596179537]\n",
      "[0.0022763574056768165]\n"
     ]
    },
    {
     "data": {
      "application/vnd.jupyter.widget-view+json": {
       "model_id": "d11c8c4ff3224099a59465865e0a1261",
       "version_major": 2,
       "version_minor": 0
      },
      "text/plain": [
       "  0%|          | 0/200 [00:00<?, ?it/s]"
      ]
     },
     "metadata": {},
     "output_type": "display_data"
    },
    {
     "name": "stdout",
     "output_type": "stream",
     "text": [
      "NN  0 , MSE  0.0004319149905981768\n",
      "[0.0004319149905981768]\n",
      "[0.0006688789588860333]\n",
      "[0.00019495102231032032]\n"
     ]
    },
    {
     "data": {
      "application/vnd.jupyter.widget-view+json": {
       "model_id": "b0dca6b8c6c647a8844b8e9177abd4ca",
       "version_major": 2,
       "version_minor": 0
      },
      "text/plain": [
       "  0%|          | 0/200 [00:00<?, ?it/s]"
      ]
     },
     "metadata": {},
     "output_type": "display_data"
    },
    {
     "name": "stdout",
     "output_type": "stream",
     "text": [
      "NN  0 , MSE  0.0018492059661105616\n",
      "[0.0018492059661105616]\n",
      "[0.001893863037409631]\n",
      "[0.001804548894811493]\n"
     ]
    },
    {
     "data": {
      "application/vnd.jupyter.widget-view+json": {
       "model_id": "25633197c64849e99dc91e9896f712a5",
       "version_major": 2,
       "version_minor": 0
      },
      "text/plain": [
       "  0%|          | 0/200 [00:00<?, ?it/s]"
      ]
     },
     "metadata": {},
     "output_type": "display_data"
    },
    {
     "name": "stdout",
     "output_type": "stream",
     "text": [
      "NN  0 , MSE  0.0005248102247286462\n",
      "[0.0005248102247286462]\n",
      "[0.0007795245686583813]\n",
      "[0.00027009588079891095]\n"
     ]
    },
    {
     "data": {
      "application/vnd.jupyter.widget-view+json": {
       "model_id": "60fd37b9b80c4d0d8da5d4a922719029",
       "version_major": 2,
       "version_minor": 0
      },
      "text/plain": [
       "  0%|          | 0/200 [00:00<?, ?it/s]"
      ]
     },
     "metadata": {},
     "output_type": "display_data"
    },
    {
     "name": "stdout",
     "output_type": "stream",
     "text": [
      "NN  0 , MSE  0.0022210021152409597\n",
      "[0.0022210021152409597]\n",
      "[0.0021816721483532966]\n",
      "[0.0022603320821286224]\n"
     ]
    },
    {
     "data": {
      "application/vnd.jupyter.widget-view+json": {
       "model_id": "3cd2df10258d4e6685939df7f70b7b6e",
       "version_major": 2,
       "version_minor": 0
      },
      "text/plain": [
       "  0%|          | 0/200 [00:00<?, ?it/s]"
      ]
     },
     "metadata": {},
     "output_type": "display_data"
    },
    {
     "name": "stdout",
     "output_type": "stream",
     "text": [
      "NN  0 , MSE  0.0021229113099587704\n",
      "[0.0021229113099587704]\n",
      "[0.0020466330133680458]\n",
      "[0.0021991896065494945]\n"
     ]
    },
    {
     "data": {
      "application/vnd.jupyter.widget-view+json": {
       "model_id": "9e4ed1891a90408e8bfee0f26fad4a77",
       "version_major": 2,
       "version_minor": 0
      },
      "text/plain": [
       "  0%|          | 0/200 [00:00<?, ?it/s]"
      ]
     },
     "metadata": {},
     "output_type": "display_data"
    },
    {
     "name": "stdout",
     "output_type": "stream",
     "text": [
      "NN  0 , MSE  0.002208520559373384\n",
      "[0.002208520559373384]\n",
      "[0.0019987227750989716]\n",
      "[0.002418318343647796]\n"
     ]
    }
   ],
   "source": [
    "\n",
    "# federated model\n",
    "for i in range(10):\n",
    "    with open(\"federated_stats\"+ext+\".pkl\",\"rb\") as f:\n",
    "        m = pickle.load(f)\n",
    "        if \"FedOpt_mirror\" in m:\n",
    "            FedOpt_mirror = m[\"FedOpt_mirror\"]\n",
    "        else:\n",
    "            FedOpt_mirror = {\n",
    "                \"models\":[],\n",
    "                \"hists\":[],\n",
    "                \"pred\":[],\n",
    "                \"mse_federated\":[],\n",
    "                \"mse_federated_lift\":[],\n",
    "                \"mse_federated_drag\":[],\n",
    "            }\n",
    "    models, hists, y, mse_federated, mse_federated_lift, mse_federated_drag = build_ensemble(\n",
    "                nns = 1, \n",
    "                #mode = \"DDNN\",\n",
    "                mode = \"PGNN_4\", \n",
    "                train = data_sets_train,\n",
    "                val = data_sets_val,\n",
    "                verbose = 1,\n",
    "            #federated = \"FedAvg\",\n",
    "            federated = \"FedOpt\",\n",
    "            #aggregation_steps = 7*2000, # 2000 for epoch, 7*2000 for batch\n",
    "            epochs=200,\n",
    "        batch_size=64, # 64 for epoch and mirror, 11 for batch\n",
    "        #collection=\"epoch\",\n",
    "        #collection=\"batch\",\n",
    "        collection=\"mirror\",\n",
    "        local_lr=1, # 0.01 for fedavg\n",
    "        global_lr=0.01,\n",
    "        a=a_test\n",
    "        )\n",
    "\n",
    "    FedOpt_mirror[\"pred\"].extend(y)\n",
    "    FedOpt_mirror[\"mse_federated\"].extend(mse_federated)\n",
    "    FedOpt_mirror[\"mse_federated_lift\"].extend(mse_federated_lift)\n",
    "    FedOpt_mirror[\"mse_federated_drag\"].extend(mse_federated_drag)\n",
    "    m[\"FedOpt_mirror\"]=FedOpt_mirror\n",
    "    with open(\"federated_stats\"+ext+\".pkl\",\"wb\") as f:\n",
    "        pickle.dump(m,f)\n",
    "    print(mse_federated)\n",
    "    print(mse_federated_lift)\n",
    "    print(mse_federated_drag)"
   ]
  },
  {
   "cell_type": "markdown",
   "id": "61024119",
   "metadata": {},
   "source": [
    "## Submodels"
   ]
  },
  {
   "cell_type": "code",
   "execution_count": 23,
   "id": "702804dc",
   "metadata": {},
   "outputs": [
    {
     "data": {
      "application/vnd.jupyter.widget-view+json": {
       "model_id": "0b39a173da0842b3b093aa37035c7c6d",
       "version_major": 2,
       "version_minor": 0
      },
      "text/plain": [
       "  0%|          | 0/6 [00:00<?, ?it/s]"
      ]
     },
     "metadata": {},
     "output_type": "display_data"
    },
    {
     "name": "stdout",
     "output_type": "stream",
     "text": [
      "NN  0 , Epochs 200 , loss 0.0050823865458369255 , val_loss 0.00475338427349925\n",
      "NN  1 , Epochs 200 , loss 0.009681559167802334 , val_loss 0.008971625939011574\n",
      "NN  2 , Epochs 200 , loss 0.010956177487969398 , val_loss 0.010200378485023975\n",
      "NN  3 , Epochs 200 , loss 0.01181972399353981 , val_loss 0.009579876437783241\n",
      "NN  4 , Epochs 200 , loss 0.011490077711641788 , val_loss 0.0068054706789553165\n",
      "NN  5 , Epochs 200 , loss 0.015410366468131542 , val_loss 0.01313316822052002\n",
      "NN  6 , Epochs 200 , loss 0.06869504600763321 , val_loss 0.06703555583953857\n",
      "NN  7 , Epochs 200 , loss 0.021231278777122498 , val_loss 0.020504165440797806\n",
      "NN  8 , Epochs 200 , loss 0.007340335752815008 , val_loss 0.008230414241552353\n",
      "NN  9 , Epochs 200 , loss 0.21075597405433655 , val_loss 0.21145249903202057\n",
      "NN  0 , Epochs 200 , loss 0.014983548782765865 , val_loss 0.008362135849893093\n",
      "NN  1 , Epochs 200 , loss 0.017738182097673416 , val_loss 0.015392533503472805\n",
      "NN  2 , Epochs 200 , loss 0.013722053728997707 , val_loss 0.012710511684417725\n",
      "NN  3 , Epochs 200 , loss 0.01512906514108181 , val_loss 0.014989819377660751\n",
      "NN  4 , Epochs 200 , loss 0.012812389060854912 , val_loss 0.012287195771932602\n",
      "NN  5 , Epochs 200 , loss 0.015316889621317387 , val_loss 0.013431180268526077\n",
      "NN  6 , Epochs 200 , loss 0.013389308005571365 , val_loss 0.012568732723593712\n",
      "NN  7 , Epochs 200 , loss 0.001106155221350491 , val_loss 0.002538745990023017\n",
      "NN  8 , Epochs 200 , loss 0.010286888107657433 , val_loss 0.00788563210517168\n",
      "NN  9 , Epochs 200 , loss 0.0028370199725031853 , val_loss 0.0035250172950327396\n",
      "NN  0 , Epochs 200 , loss 0.007827907800674438 , val_loss 0.008598379790782928\n",
      "NN  1 , Epochs 200 , loss 0.1828184723854065 , val_loss 0.18165841698646545\n",
      "NN  2 , Epochs 200 , loss 0.005902441684156656 , val_loss 0.008824426680803299\n",
      "NN  3 , Epochs 200 , loss 0.0355357751250267 , val_loss 0.039821501821279526\n",
      "NN  4 , Epochs 200 , loss 0.00682091573253274 , val_loss 0.005877207964658737\n",
      "NN  5 , Epochs 200 , loss 0.006925869733095169 , val_loss 0.014985991641879082\n",
      "NN  6 , Epochs 200 , loss 0.010445347055792809 , val_loss 0.009292920120060444\n",
      "NN  7 , Epochs 200 , loss 0.006476488895714283 , val_loss 0.012864165008068085\n",
      "NN  8 , Epochs 200 , loss 0.02981061488389969 , val_loss 0.033820029348134995\n",
      "NN  9 , Epochs 200 , loss 0.021751193329691887 , val_loss 0.024664808064699173\n",
      "NN  0 , Epochs 200 , loss 0.0031205748673528433 , val_loss 0.007199191953986883\n",
      "NN  1 , Epochs 200 , loss 0.00163666857406497 , val_loss 0.0017766295932233334\n",
      "NN  2 , Epochs 200 , loss 0.18466068804264069 , val_loss 0.18011265993118286\n",
      "NN  3 , Epochs 200 , loss 0.01370180957019329 , val_loss 0.010035084560513496\n",
      "NN  4 , Epochs 200 , loss 0.020613055676221848 , val_loss 0.021933792158961296\n",
      "NN  5 , Epochs 200 , loss 0.011127157136797905 , val_loss 0.007368800695985556\n",
      "NN  6 , Epochs 200 , loss 0.005492229014635086 , val_loss 0.002973951166495681\n",
      "NN  7 , Epochs 200 , loss 0.009816908277571201 , val_loss 0.010055100545287132\n",
      "NN  8 , Epochs 200 , loss 0.0025352740194648504 , val_loss 0.002462308155372739\n",
      "NN  9 , Epochs 200 , loss 0.0037262546829879284 , val_loss 0.0043226201087236404\n",
      "NN  0 , Epochs 200 , loss 0.003377356566488743 , val_loss 0.0037062582559883595\n",
      "NN  1 , Epochs 200 , loss 0.0011771870777010918 , val_loss 0.0014758509350940585\n",
      "NN  2 , Epochs 200 , loss 0.01963163912296295 , val_loss 0.0362066850066185\n",
      "NN  3 , Epochs 200 , loss 0.003533437615260482 , val_loss 0.004637477919459343\n",
      "NN  4 , Epochs 200 , loss 0.008824337273836136 , val_loss 0.011001979000866413\n",
      "NN  5 , Epochs 200 , loss 0.005309872794896364 , val_loss 0.005625443533062935\n",
      "NN  6 , Epochs 200 , loss 0.0031710416078567505 , val_loss 0.0036813688930124044\n",
      "NN  7 , Epochs 200 , loss 0.002422799589112401 , val_loss 0.00312093086540699\n",
      "NN  8 , Epochs 200 , loss 0.017647085711359978 , val_loss 0.020173130556941032\n",
      "NN  9 , Epochs 200 , loss 0.006041876506060362 , val_loss 0.008815277367830276\n",
      "NN  0 , Epochs 200 , loss 0.013515188358724117 , val_loss 0.013739845715463161\n",
      "NN  1 , Epochs 200 , loss 0.010873522609472275 , val_loss 0.007829164154827595\n",
      "NN  2 , Epochs 200 , loss 0.002337648766115308 , val_loss 0.0033812904730439186\n",
      "NN  3 , Epochs 200 , loss 0.008587261661887169 , val_loss 0.01240006648004055\n",
      "NN  4 , Epochs 200 , loss 0.00101676513440907 , val_loss 0.0010449246037751436\n",
      "NN  5 , Epochs 200 , loss 0.0063727665692567825 , val_loss 0.00593824265524745\n",
      "NN  6 , Epochs 200 , loss 0.0250265970826149 , val_loss 0.025687461718916893\n",
      "NN  7 , Epochs 200 , loss 0.011393716558814049 , val_loss 0.013702482916414738\n",
      "NN  8 , Epochs 200 , loss 0.005704647395759821 , val_loss 0.0076150172390043736\n",
      "NN  9 , Epochs 200 , loss 0.005482022184878588 , val_loss 0.005965204443782568\n"
     ]
    }
   ],
   "source": [
    "# train iniviual models\n",
    "\n",
    "\n",
    "# model 1-5\n",
    "for i in tqdm(range(len(data_sets_train))):\n",
    "    with open(\"federated_stats\"+ext+\".pkl\",\"rb\") as f:\n",
    "        m = pickle.load(f)\n",
    "        if \"Subsets\" in m:\n",
    "            m[\"Subsets\"]=Subsets\n",
    "        else:\n",
    "            Subsets = {\n",
    "                \"pred\":[],\n",
    "                \"mse_subsets\":[],\n",
    "                \"mse_subsets_lift\":[],\n",
    "                \"mse_subsets_drag\":[],\n",
    "            }\n",
    "        \n",
    "    models, hists = build_ensemble(\n",
    "            nns=10, \n",
    "            mode = \"DDNN\",\n",
    "            #mode = \"PGNN_4\",\n",
    "            x_train = data_sets_train[i][0],\n",
    "            x_train_phys = data_sets_train[i][1][:,0],\n",
    "            #x_train_phys = data_sets_train[i][1],\n",
    "            y_train = data_sets_train[i][2],\n",
    "            x_val = data_sets_val[i][0],\n",
    "            x_val_phys = data_sets_val[i][1][:,0],\n",
    "            #x_val_phys = data_sets_val[i][1],\n",
    "            y_val = data_sets_val[i][2],\n",
    "            epochs=200,\n",
    "            verbose = 1\n",
    "    )\n",
    "    \n",
    "    mse_temp=[]\n",
    "    mse_temp2=[]\n",
    "    mse_temp3=[]\n",
    "    y=[]\n",
    "    for model in models:\n",
    "        y_pred = model.predict( x = [\n",
    "                                    x_test,\n",
    "                                    x_test_phys[:,0],\n",
    "                                    #x_test_phys,\n",
    "                                    ],verbose=0)\n",
    "        mse_temp.append(MSE(y_pred,y_test))\n",
    "        mse_temp2.append(MSE(y_pred[:,0],y_test[:,0]))\n",
    "        mse_temp3.append(MSE(y_pred[:,1],y_test[:,1]))\n",
    "        y.append([y_pred,y_test])\n",
    "        \n",
    "    Subsets[\"mse_subsets\"].extend([mse_temp])\n",
    "    Subsets[\"mse_subsets_lift\"].extend([mse_temp2])\n",
    "    Subsets[\"mse_subsets_drag\"].extend([mse_temp3])\n",
    "    Subsets[\"pred\"].extend([y])\n",
    "                           \n",
    "  \n",
    "    m[\"Subsets\"]=Subsets\n",
    "    with open(\"federated_stats\"+ext+\".pkl\",\"wb\") as f:\n",
    "        pickle.dump(m,f)\n",
    "                           "
   ]
  },
  {
   "cell_type": "markdown",
   "id": "fcc83387",
   "metadata": {},
   "source": [
    "## Global Model"
   ]
  },
  {
   "cell_type": "code",
   "execution_count": 9,
   "id": "f6c6d82b",
   "metadata": {},
   "outputs": [
    {
     "name": "stdout",
     "output_type": "stream",
     "text": [
      "NN  0 , Epochs 200 , loss 0.001413430436514318 , val_loss 0.0024340213276445866\n",
      "NN  1 , Epochs 200 , loss 0.0026853233575820923 , val_loss 0.0030857629608362913\n",
      "NN  2 , Epochs 200 , loss 0.0030917013064026833 , val_loss 0.0029012851882725954\n",
      "NN  3 , Epochs 200 , loss 0.002237205393612385 , val_loss 0.0017017533537000418\n",
      "NN  4 , Epochs 200 , loss 0.0035199832636862993 , val_loss 0.003670845879241824\n",
      "NN  5 , Epochs 200 , loss 0.002810496836900711 , val_loss 0.0031191224697977304\n",
      "NN  6 , Epochs 200 , loss 0.003357673529535532 , val_loss 0.004237380810081959\n",
      "NN  7 , Epochs 200 , loss 0.0015348775777965784 , val_loss 0.0020834070164710283\n",
      "NN  8 , Epochs 200 , loss 0.0043157185427844524 , val_loss 0.003786038840189576\n",
      "NN  9 , Epochs 200 , loss 0.00225018709897995 , val_loss 0.001780886435881257\n"
     ]
    }
   ],
   "source": [
    "# train global model\n",
    "\n",
    "models, hists = build_ensemble(\n",
    "        nns=10, \n",
    "        mode = \"DDNN\",\n",
    "        #mode = \"PGNN_4\",\n",
    "        x_train = x_train,\n",
    "        x_train_phys = x_train_phys[:,0],\n",
    "        #x_train_phys = x_train_phys,\n",
    "        y_train = y_train,\n",
    "        x_val = x_val,\n",
    "        x_val_phys = x_val_phys[:,0],\n",
    "        #x_val_phys = x_val_phys,\n",
    "        y_val = y_val,\n",
    "        epochs=200,\n",
    "        verbose = 1\n",
    ")\n",
    "\n",
    "mse_global=[]\n",
    "mse_global_lift=[]\n",
    "mse_global_drag=[]\n",
    "global_y=[]\n",
    "for model in models:\n",
    "    y_pred = model.predict( x = [\n",
    "        x_test,\n",
    "        #x_test_phys,\n",
    "        x_test_phys[:,0],\n",
    "    ],verbose=0)\n",
    "    mse_global.append(MSE(y_pred,y_test))\n",
    "    mse_global_lift.append(MSE(y_pred[:,0],y_test[:,0]))\n",
    "    mse_global_drag.append(MSE(y_pred[:,1],y_test[:,1]))\n",
    "    global_y.append([y_pred,y_test])\n",
    "    \n",
    "\n",
    "\n",
    "with open(\"federated_stats\"+ext+\".pkl\",\"rb\") as f:\n",
    "    m = pickle.load(f)\n",
    "if \"Global\" in m:\n",
    "    m[\"Global\"][\"pred\"].extend(global_y)\n",
    "    m[\"Global\"][\"mse_global\"].extend(mse_global)\n",
    "    m[\"Global\"][\"mse_global_lift\"].extend(mse_global_lift)\n",
    "    m[\"Global\"][\"mse_global_drag\"].extend(mse_global_drag)\n",
    "else:\n",
    "    Global = {\n",
    "    \"pred\":global_y,\n",
    "    \"mse_global\":mse_global,\n",
    "    \"mse_global_lift\":mse_global_lift,\n",
    "    \"mse_global_drag\":mse_global_drag,\n",
    "    } \n",
    "    m[\"Global\"]=Global\n",
    "with open(\"federated_stats\"+ext+\".pkl\",\"wb\") as f:\n",
    "    pickle.dump(m,f)"
   ]
  },
  {
   "cell_type": "markdown",
   "id": "5efa27f3",
   "metadata": {},
   "source": [
    "## Simplified physics-based model"
   ]
  },
  {
   "cell_type": "code",
   "execution_count": 16,
   "id": "d658c540",
   "metadata": {},
   "outputs": [],
   "source": [
    "mse_xfoil = MSE(x_test_phys[:,1:],y_test)"
   ]
  },
  {
   "cell_type": "markdown",
   "id": "ffd6b25d",
   "metadata": {},
   "source": [
    "# Evaluate"
   ]
  },
  {
   "cell_type": "code",
   "execution_count": 10,
   "id": "834bb6b5",
   "metadata": {},
   "outputs": [
    {
     "data": {
      "application/vnd.jupyter.widget-view+json": {
       "model_id": "9343a079d2ab4fab998fd6302dca217c",
       "version_major": 2,
       "version_minor": 0
      },
      "image/png": "[encoded data removed]",
      "text/html": [
       "\n",
       "            <div style=\"display: inline-block;\">\n",
       "                <div class=\"jupyter-widgets widget-label\" style=\"text-align: center;\">\n",
       "                    Figure\n",
       "                </div>\n",
       "                <img src='data:image/png;base64,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' width=640.0/>\n",
       "            </div>\n",
       "        "
      ],
      "text/plain": [
       "Canvas(toolbar=Toolbar(toolitems=[('Home', 'Reset original view', 'home', 'home'), ('Back', 'Back to previous …"
      ]
     },
     "metadata": {},
     "output_type": "display_data"
    }
   ],
   "source": [
    "with open(\"federated_mse.pkl\",\"rb\") as f:\n",
    "    m = pickle.load(f)\n",
    "\n",
    "plt.figure()\n",
    "plt.yscale(\"log\")\n",
    "for i in range(len(mse_subsets)):\n",
    "    plt.boxplot(m[\"Subsets\"][\"mse_subsets\"][i], labels = [\"Subset \"+str(i+1)], positions=[i/2])\n",
    "    \n",
    "plt.boxplot(m[\"Global\"][\"mse_global\"], labels = [\"Central\"], positions = [(i+1)/2])\n",
    "plt.boxplot(m[\"FedAvg\"][\"mse_federated\"], labels = [\"FedAvg\"], positions = [(i+2)/2])\n",
    "plt.boxplot(m[\"FedOpt\"][\"mse_federated\"], labels = [\"FedOpt\"], positions = [(i+3)/2])\n",
    "plt.boxplot(m[\"FedOpt_mirror\"][\"mse_federated\"], labels = [\"FedOri\"], positions = [(i+4)/2])\n",
    "plt.plot([0,6],[mse_xfoil,mse_xfoil])\n",
    "plt.xlabel(\"Model training strategy\", size = 13)\n",
    "plt.ylabel(\"Mean squared error\", size = 13)\n",
    "plt.xticks(rotation=30)\n",
    "plt.grid(axis=\"y\")\n",
    "plt.tight_layout()\n"
   ]
  },
  {
   "cell_type": "code",
   "execution_count": null,
   "id": "3279e02f",
   "metadata": {},
   "outputs": [],
   "source": []
  }
 ],
 "metadata": {
  "kernelspec": {
   "display_name": "Python 3 (ipykernel)",
   "language": "python",
   "name": "python3"
  },
  "language_info": {
   "codemirror_mode": {
    "name": "ipython",
    "version": 3
   },
   "file_extension": ".py",
   "mimetype": "text/x-python",
   "name": "python",
   "nbconvert_exporter": "python",
   "pygments_lexer": "ipython3",
   "version": "3.8.8"
  }
 },
 "nbformat": 4,
 "nbformat_minor": 5
}
